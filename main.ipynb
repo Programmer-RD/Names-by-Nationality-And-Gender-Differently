{
 "cells": [
  {
   "cell_type": "code",
   "execution_count": 1,
   "metadata": {},
   "outputs": [
    {
     "name": "stdout",
     "output_type": "stream",
     "text": [
      "Archive:  ./archive (67).zip\r\n",
      "  inflating: names-by-nationality.csv  \r\n"
     ]
    }
   ],
   "source": [
    "!unzip ./archive\\ \\(67\\).zip"
   ]
  },
  {
   "cell_type": "code",
   "execution_count": 3,
   "metadata": {},
   "outputs": [],
   "source": [
    "import pandas as pd"
   ]
  },
  {
   "cell_type": "code",
   "execution_count": 4,
   "metadata": {},
   "outputs": [],
   "source": [
    "data = pd.read_csv('./names-by-nationality.csv')"
   ]
  },
  {
   "cell_type": "code",
   "execution_count": 5,
   "metadata": {},
   "outputs": [
    {
     "data": {
      "text/html": [
       "<div>\n",
       "<style scoped>\n",
       "    .dataframe tbody tr th:only-of-type {\n",
       "        vertical-align: middle;\n",
       "    }\n",
       "\n",
       "    .dataframe tbody tr th {\n",
       "        vertical-align: top;\n",
       "    }\n",
       "\n",
       "    .dataframe thead th {\n",
       "        text-align: right;\n",
       "    }\n",
       "</style>\n",
       "<table border=\"1\" class=\"dataframe\">\n",
       "  <thead>\n",
       "    <tr style=\"text-align: right;\">\n",
       "      <th></th>\n",
       "      <th>name</th>\n",
       "      <th>sex</th>\n",
       "      <th>nationality</th>\n",
       "    </tr>\n",
       "  </thead>\n",
       "  <tbody>\n",
       "    <tr>\n",
       "      <th>0</th>\n",
       "      <td>Aarav</td>\n",
       "      <td>Male</td>\n",
       "      <td>Indian</td>\n",
       "    </tr>\n",
       "    <tr>\n",
       "      <th>1</th>\n",
       "      <td>Aaryan</td>\n",
       "      <td>Male</td>\n",
       "      <td>Indian</td>\n",
       "    </tr>\n",
       "    <tr>\n",
       "      <th>2</th>\n",
       "      <td>Abha</td>\n",
       "      <td>Female</td>\n",
       "      <td>Indian</td>\n",
       "    </tr>\n",
       "    <tr>\n",
       "      <th>3</th>\n",
       "      <td>Abhay</td>\n",
       "      <td>Male</td>\n",
       "      <td>Indian</td>\n",
       "    </tr>\n",
       "    <tr>\n",
       "      <th>4</th>\n",
       "      <td>Abhilash</td>\n",
       "      <td>Male</td>\n",
       "      <td>Indian</td>\n",
       "    </tr>\n",
       "  </tbody>\n",
       "</table>\n",
       "</div>"
      ],
      "text/plain": [
       "       name     sex nationality\n",
       "0     Aarav    Male      Indian\n",
       "1    Aaryan    Male      Indian\n",
       "2      Abha  Female      Indian\n",
       "3     Abhay    Male      Indian\n",
       "4  Abhilash    Male      Indian"
      ]
     },
     "execution_count": 5,
     "metadata": {},
     "output_type": "execute_result"
    }
   ],
   "source": [
    "data.head()"
   ]
  },
  {
   "cell_type": "code",
   "execution_count": 6,
   "metadata": {},
   "outputs": [
    {
     "data": {
      "text/plain": [
       "4695"
      ]
     },
     "execution_count": 6,
     "metadata": {},
     "output_type": "execute_result"
    }
   ],
   "source": [
    "len(data)"
   ]
  },
  {
   "cell_type": "code",
   "execution_count": 7,
   "metadata": {},
   "outputs": [
    {
     "data": {
      "text/plain": [
       "name           0\n",
       "sex            0\n",
       "nationality    0\n",
       "dtype: int64"
      ]
     },
     "execution_count": 7,
     "metadata": {},
     "output_type": "execute_result"
    }
   ],
   "source": [
    "data.isna().sum()"
   ]
  },
  {
   "cell_type": "code",
   "execution_count": 8,
   "metadata": {},
   "outputs": [],
   "source": [
    "import json\n",
    "def object_to_int(data,coloum):\n",
    "    info_dict = {}\n",
    "    all_info = []\n",
    "    index = -1\n",
    "    for info in data[coloum]:\n",
    "        if info not in info_dict:\n",
    "            index = index + 1\n",
    "            info_dict[info] = index\n",
    "    for info in data[coloum]:\n",
    "        all_info.append(info_dict[info])\n",
    "    with open(f'{coloum}.json','w') as json_file:\n",
    "        json.dump(info_dict,json_file)\n",
    "    return all_info,info_dict"
   ]
  },
  {
   "cell_type": "code",
   "execution_count": 9,
   "metadata": {},
   "outputs": [],
   "source": [
    "nationality_info = object_to_int(data,'nationality')\n",
    "data['nationality'] = nationality_info[0]"
   ]
  },
  {
   "cell_type": "code",
   "execution_count": 10,
   "metadata": {},
   "outputs": [
    {
     "data": {
      "text/html": [
       "<div>\n",
       "<style scoped>\n",
       "    .dataframe tbody tr th:only-of-type {\n",
       "        vertical-align: middle;\n",
       "    }\n",
       "\n",
       "    .dataframe tbody tr th {\n",
       "        vertical-align: top;\n",
       "    }\n",
       "\n",
       "    .dataframe thead th {\n",
       "        text-align: right;\n",
       "    }\n",
       "</style>\n",
       "<table border=\"1\" class=\"dataframe\">\n",
       "  <thead>\n",
       "    <tr style=\"text-align: right;\">\n",
       "      <th></th>\n",
       "      <th>name</th>\n",
       "      <th>sex</th>\n",
       "      <th>nationality</th>\n",
       "    </tr>\n",
       "  </thead>\n",
       "  <tbody>\n",
       "    <tr>\n",
       "      <th>0</th>\n",
       "      <td>Aarav</td>\n",
       "      <td>Male</td>\n",
       "      <td>0</td>\n",
       "    </tr>\n",
       "    <tr>\n",
       "      <th>1</th>\n",
       "      <td>Aaryan</td>\n",
       "      <td>Male</td>\n",
       "      <td>0</td>\n",
       "    </tr>\n",
       "    <tr>\n",
       "      <th>2</th>\n",
       "      <td>Abha</td>\n",
       "      <td>Female</td>\n",
       "      <td>0</td>\n",
       "    </tr>\n",
       "    <tr>\n",
       "      <th>3</th>\n",
       "      <td>Abhay</td>\n",
       "      <td>Male</td>\n",
       "      <td>0</td>\n",
       "    </tr>\n",
       "    <tr>\n",
       "      <th>4</th>\n",
       "      <td>Abhilash</td>\n",
       "      <td>Male</td>\n",
       "      <td>0</td>\n",
       "    </tr>\n",
       "  </tbody>\n",
       "</table>\n",
       "</div>"
      ],
      "text/plain": [
       "       name     sex  nationality\n",
       "0     Aarav    Male            0\n",
       "1    Aaryan    Male            0\n",
       "2      Abha  Female            0\n",
       "3     Abhay    Male            0\n",
       "4  Abhilash    Male            0"
      ]
     },
     "execution_count": 10,
     "metadata": {},
     "output_type": "execute_result"
    }
   ],
   "source": [
    "data.head()"
   ]
  },
  {
   "cell_type": "code",
   "execution_count": 11,
   "metadata": {},
   "outputs": [
    {
     "name": "stdout",
     "output_type": "stream",
     "text": [
      "'archive (67).zip'   names-by-nationality.csv   sex.json\r\n",
      " main.ipynb\t     nationality.json\r\n"
     ]
    }
   ],
   "source": [
    "!ls"
   ]
  },
  {
   "cell_type": "code",
   "execution_count": 12,
   "metadata": {},
   "outputs": [],
   "source": [
    "sex_info = object_to_int(data,'sex')\n",
    "data['sex'] = sex_info[0]"
   ]
  },
  {
   "cell_type": "code",
   "execution_count": 13,
   "metadata": {},
   "outputs": [
    {
     "data": {
      "text/html": [
       "<div>\n",
       "<style scoped>\n",
       "    .dataframe tbody tr th:only-of-type {\n",
       "        vertical-align: middle;\n",
       "    }\n",
       "\n",
       "    .dataframe tbody tr th {\n",
       "        vertical-align: top;\n",
       "    }\n",
       "\n",
       "    .dataframe thead th {\n",
       "        text-align: right;\n",
       "    }\n",
       "</style>\n",
       "<table border=\"1\" class=\"dataframe\">\n",
       "  <thead>\n",
       "    <tr style=\"text-align: right;\">\n",
       "      <th></th>\n",
       "      <th>name</th>\n",
       "      <th>sex</th>\n",
       "      <th>nationality</th>\n",
       "    </tr>\n",
       "  </thead>\n",
       "  <tbody>\n",
       "    <tr>\n",
       "      <th>0</th>\n",
       "      <td>Aarav</td>\n",
       "      <td>0</td>\n",
       "      <td>0</td>\n",
       "    </tr>\n",
       "    <tr>\n",
       "      <th>1</th>\n",
       "      <td>Aaryan</td>\n",
       "      <td>0</td>\n",
       "      <td>0</td>\n",
       "    </tr>\n",
       "    <tr>\n",
       "      <th>2</th>\n",
       "      <td>Abha</td>\n",
       "      <td>1</td>\n",
       "      <td>0</td>\n",
       "    </tr>\n",
       "    <tr>\n",
       "      <th>3</th>\n",
       "      <td>Abhay</td>\n",
       "      <td>0</td>\n",
       "      <td>0</td>\n",
       "    </tr>\n",
       "    <tr>\n",
       "      <th>4</th>\n",
       "      <td>Abhilash</td>\n",
       "      <td>0</td>\n",
       "      <td>0</td>\n",
       "    </tr>\n",
       "  </tbody>\n",
       "</table>\n",
       "</div>"
      ],
      "text/plain": [
       "       name  sex  nationality\n",
       "0     Aarav    0            0\n",
       "1    Aaryan    0            0\n",
       "2      Abha    1            0\n",
       "3     Abhay    0            0\n",
       "4  Abhilash    0            0"
      ]
     },
     "execution_count": 13,
     "metadata": {},
     "output_type": "execute_result"
    }
   ],
   "source": [
    "data.head()"
   ]
  },
  {
   "cell_type": "code",
   "execution_count": 14,
   "metadata": {},
   "outputs": [
    {
     "data": {
      "text/plain": [
       "1    2573\n",
       "0    1356\n",
       "2     766\n",
       "Name: sex, dtype: int64"
      ]
     },
     "execution_count": 14,
     "metadata": {},
     "output_type": "execute_result"
    }
   ],
   "source": [
    "data['sex'].value_counts()"
   ]
  },
  {
   "cell_type": "code",
   "execution_count": 15,
   "metadata": {},
   "outputs": [
    {
     "data": {
      "text/html": [
       "<div>\n",
       "<style scoped>\n",
       "    .dataframe tbody tr th:only-of-type {\n",
       "        vertical-align: middle;\n",
       "    }\n",
       "\n",
       "    .dataframe tbody tr th {\n",
       "        vertical-align: top;\n",
       "    }\n",
       "\n",
       "    .dataframe thead th {\n",
       "        text-align: right;\n",
       "    }\n",
       "</style>\n",
       "<table border=\"1\" class=\"dataframe\">\n",
       "  <thead>\n",
       "    <tr style=\"text-align: right;\">\n",
       "      <th></th>\n",
       "      <th>name</th>\n",
       "      <th>sex</th>\n",
       "      <th>nationality</th>\n",
       "    </tr>\n",
       "  </thead>\n",
       "  <tbody>\n",
       "    <tr>\n",
       "      <th>0</th>\n",
       "      <td>Aarav</td>\n",
       "      <td>0</td>\n",
       "      <td>0</td>\n",
       "    </tr>\n",
       "    <tr>\n",
       "      <th>1</th>\n",
       "      <td>Aaryan</td>\n",
       "      <td>0</td>\n",
       "      <td>0</td>\n",
       "    </tr>\n",
       "    <tr>\n",
       "      <th>2</th>\n",
       "      <td>Abha</td>\n",
       "      <td>1</td>\n",
       "      <td>0</td>\n",
       "    </tr>\n",
       "    <tr>\n",
       "      <th>3</th>\n",
       "      <td>Abhay</td>\n",
       "      <td>0</td>\n",
       "      <td>0</td>\n",
       "    </tr>\n",
       "    <tr>\n",
       "      <th>4</th>\n",
       "      <td>Abhilash</td>\n",
       "      <td>0</td>\n",
       "      <td>0</td>\n",
       "    </tr>\n",
       "  </tbody>\n",
       "</table>\n",
       "</div>"
      ],
      "text/plain": [
       "       name  sex  nationality\n",
       "0     Aarav    0            0\n",
       "1    Aaryan    0            0\n",
       "2      Abha    1            0\n",
       "3     Abhay    0            0\n",
       "4  Abhilash    0            0"
      ]
     },
     "execution_count": 15,
     "metadata": {},
     "output_type": "execute_result"
    }
   ],
   "source": [
    "data.head()"
   ]
  },
  {
   "cell_type": "code",
   "execution_count": 16,
   "metadata": {},
   "outputs": [
    {
     "data": {
      "text/plain": [
       "<AxesSubplot:xlabel='sex'>"
      ]
     },
     "execution_count": 16,
     "metadata": {},
     "output_type": "execute_result"
    },
    {
     "data": {
      "image/png": "[encoded data removed]",
      "text/plain": [
       "<Figure size 432x288 with 1 Axes>"
      ]
     },
     "metadata": {
      "needs_background": "light"
     },
     "output_type": "display_data"
    }
   ],
   "source": [
    "import matplotlib.pyplot as plt\n",
    "pd.crosstab(data['sex'],data['nationality']).plot()"
   ]
  },
  {
   "cell_type": "code",
   "execution_count": 17,
   "metadata": {},
   "outputs": [
    {
     "data": {
      "text/html": [
       "<div>\n",
       "<style scoped>\n",
       "    .dataframe tbody tr th:only-of-type {\n",
       "        vertical-align: middle;\n",
       "    }\n",
       "\n",
       "    .dataframe tbody tr th {\n",
       "        vertical-align: top;\n",
       "    }\n",
       "\n",
       "    .dataframe thead th {\n",
       "        text-align: right;\n",
       "    }\n",
       "</style>\n",
       "<table border=\"1\" class=\"dataframe\">\n",
       "  <thead>\n",
       "    <tr style=\"text-align: right;\">\n",
       "      <th></th>\n",
       "      <th>name</th>\n",
       "      <th>sex</th>\n",
       "      <th>nationality</th>\n",
       "    </tr>\n",
       "  </thead>\n",
       "  <tbody>\n",
       "    <tr>\n",
       "      <th>0</th>\n",
       "      <td>Aarav</td>\n",
       "      <td>0</td>\n",
       "      <td>0</td>\n",
       "    </tr>\n",
       "    <tr>\n",
       "      <th>1</th>\n",
       "      <td>Aaryan</td>\n",
       "      <td>0</td>\n",
       "      <td>0</td>\n",
       "    </tr>\n",
       "    <tr>\n",
       "      <th>2</th>\n",
       "      <td>Abha</td>\n",
       "      <td>1</td>\n",
       "      <td>0</td>\n",
       "    </tr>\n",
       "    <tr>\n",
       "      <th>3</th>\n",
       "      <td>Abhay</td>\n",
       "      <td>0</td>\n",
       "      <td>0</td>\n",
       "    </tr>\n",
       "    <tr>\n",
       "      <th>4</th>\n",
       "      <td>Abhilash</td>\n",
       "      <td>0</td>\n",
       "      <td>0</td>\n",
       "    </tr>\n",
       "  </tbody>\n",
       "</table>\n",
       "</div>"
      ],
      "text/plain": [
       "       name  sex  nationality\n",
       "0     Aarav    0            0\n",
       "1    Aaryan    0            0\n",
       "2      Abha    1            0\n",
       "3     Abhay    0            0\n",
       "4  Abhilash    0            0"
      ]
     },
     "execution_count": 17,
     "metadata": {},
     "output_type": "execute_result"
    }
   ],
   "source": [
    "data.head()"
   ]
  },
  {
   "cell_type": "code",
   "execution_count": 18,
   "metadata": {},
   "outputs": [],
   "source": [
    "from sklearn.tree import DecisionTreeClassifier,ExtraTreeClassifier\n",
    "from sklearn.model_selection import *\n",
    "from sklearn.metrics import *\n",
    "from sklearn.ensemble import RandomForestClassifier,AdaBoostClassifier,BaggingClassifier,ExtraTreesClassifier,GradientBoostingClassifier,StackingClassifier,VotingClassifier\n",
    "from sklearn.linear_model import RidgeClassifier,SGDClassifier,Ridge,RidgeClassifierCV,RidgeCV\n",
    "from sklearn.naive_bayes import GaussianNB\n",
    "import pickle\n",
    "import os"
   ]
  },
  {
   "cell_type": "code",
   "execution_count": 19,
   "metadata": {},
   "outputs": [],
   "source": [
    "\n",
    "def fit_and_calcuate_metrixs(models:dict,X_train,X_test,y_train,y_test):\n",
    "    models_info = {}\n",
    "    for name,model in models.items():\n",
    "        print(name)\n",
    "        model = model.fit(X_train,y_train)\n",
    "        y_preds = model.predict(X_test)\n",
    "        try:\n",
    "            info = {\n",
    "                'Accuracy':model.score(X_test,y_test),\n",
    "                'F1 Score':f1_score(y_test,y_preds,average='macro'),\n",
    "                'Precision':precision_score(y_test,y_preds,average='macro'),\n",
    "                'Recall':recall_score(y_test,y_preds,average='macro')\n",
    "            }\n",
    "            plot_confusion_matrix(model,X_test,y_test)\n",
    "        except:\n",
    "            info = {'Accuracy':model.score(X_test,y_test)}\n",
    "        models_info[name] = info\n",
    "        print('\\n\\n')\n",
    "    return models_info\n",
    "def calcuate_metrixs(models:dict,X_train,X_test,y_train,y_test):\n",
    "    models_info = {}\n",
    "    for name,model in models.items():\n",
    "        print(name)\n",
    "        y_preds = model.predict(X_test)\n",
    "        info = {\n",
    "            'Accuracy':model.score(X_test,y_test),\n",
    "            'F1 Score':f1_score(y_test,y_preds,average='macro'),\n",
    "            'Precision':precision_score(y_test,y_preds,average='macro'),\n",
    "            'Recall':recall_score(y_test,y_preds,average='macro')\n",
    "        }\n",
    "        plot_confusion_matrix(model,X_test,y_test)\n",
    "        plot_roc_curve(model,X_test,y_test)\n",
    "        models_info[name] = info\n",
    "        print('\\n\\n')\n",
    "    return models_info"
   ]
  },
  {
   "cell_type": "code",
   "execution_count": 20,
   "metadata": {},
   "outputs": [
    {
     "data": {
      "text/html": [
       "<div>\n",
       "<style scoped>\n",
       "    .dataframe tbody tr th:only-of-type {\n",
       "        vertical-align: middle;\n",
       "    }\n",
       "\n",
       "    .dataframe tbody tr th {\n",
       "        vertical-align: top;\n",
       "    }\n",
       "\n",
       "    .dataframe thead th {\n",
       "        text-align: right;\n",
       "    }\n",
       "</style>\n",
       "<table border=\"1\" class=\"dataframe\">\n",
       "  <thead>\n",
       "    <tr style=\"text-align: right;\">\n",
       "      <th></th>\n",
       "      <th>name</th>\n",
       "      <th>sex</th>\n",
       "      <th>nationality</th>\n",
       "    </tr>\n",
       "  </thead>\n",
       "  <tbody>\n",
       "    <tr>\n",
       "      <th>0</th>\n",
       "      <td>Aarav</td>\n",
       "      <td>0</td>\n",
       "      <td>0</td>\n",
       "    </tr>\n",
       "    <tr>\n",
       "      <th>1</th>\n",
       "      <td>Aaryan</td>\n",
       "      <td>0</td>\n",
       "      <td>0</td>\n",
       "    </tr>\n",
       "    <tr>\n",
       "      <th>2</th>\n",
       "      <td>Abha</td>\n",
       "      <td>1</td>\n",
       "      <td>0</td>\n",
       "    </tr>\n",
       "    <tr>\n",
       "      <th>3</th>\n",
       "      <td>Abhay</td>\n",
       "      <td>0</td>\n",
       "      <td>0</td>\n",
       "    </tr>\n",
       "    <tr>\n",
       "      <th>4</th>\n",
       "      <td>Abhilash</td>\n",
       "      <td>0</td>\n",
       "      <td>0</td>\n",
       "    </tr>\n",
       "    <tr>\n",
       "      <th>...</th>\n",
       "      <td>...</td>\n",
       "      <td>...</td>\n",
       "      <td>...</td>\n",
       "    </tr>\n",
       "    <tr>\n",
       "      <th>4690</th>\n",
       "      <td>Worth</td>\n",
       "      <td>0</td>\n",
       "      <td>6</td>\n",
       "    </tr>\n",
       "    <tr>\n",
       "      <th>4691</th>\n",
       "      <td>Wrigley</td>\n",
       "      <td>2</td>\n",
       "      <td>6</td>\n",
       "    </tr>\n",
       "    <tr>\n",
       "      <th>4692</th>\n",
       "      <td>X-iomania</td>\n",
       "      <td>1</td>\n",
       "      <td>6</td>\n",
       "    </tr>\n",
       "    <tr>\n",
       "      <th>4693</th>\n",
       "      <td>Xadrian</td>\n",
       "      <td>0</td>\n",
       "      <td>6</td>\n",
       "    </tr>\n",
       "    <tr>\n",
       "      <th>4694</th>\n",
       "      <td>Xakery</td>\n",
       "      <td>0</td>\n",
       "      <td>6</td>\n",
       "    </tr>\n",
       "  </tbody>\n",
       "</table>\n",
       "<p>4695 rows × 3 columns</p>\n",
       "</div>"
      ],
      "text/plain": [
       "           name  sex  nationality\n",
       "0         Aarav    0            0\n",
       "1        Aaryan    0            0\n",
       "2          Abha    1            0\n",
       "3         Abhay    0            0\n",
       "4      Abhilash    0            0\n",
       "...         ...  ...          ...\n",
       "4690      Worth    0            6\n",
       "4691    Wrigley    2            6\n",
       "4692  X-iomania    1            6\n",
       "4693    Xadrian    0            6\n",
       "4694     Xakery    0            6\n",
       "\n",
       "[4695 rows x 3 columns]"
      ]
     },
     "execution_count": 20,
     "metadata": {},
     "output_type": "execute_result"
    }
   ],
   "source": [
    "data"
   ]
  },
  {
   "cell_type": "code",
   "execution_count": 24,
   "metadata": {},
   "outputs": [
    {
     "data": {
      "text/html": [
       "<div>\n",
       "<style scoped>\n",
       "    .dataframe tbody tr th:only-of-type {\n",
       "        vertical-align: middle;\n",
       "    }\n",
       "\n",
       "    .dataframe tbody tr th {\n",
       "        vertical-align: top;\n",
       "    }\n",
       "\n",
       "    .dataframe thead th {\n",
       "        text-align: right;\n",
       "    }\n",
       "</style>\n",
       "<table border=\"1\" class=\"dataframe\">\n",
       "  <thead>\n",
       "    <tr style=\"text-align: right;\">\n",
       "      <th></th>\n",
       "      <th>name</th>\n",
       "      <th>sex</th>\n",
       "      <th>nationality</th>\n",
       "    </tr>\n",
       "  </thead>\n",
       "  <tbody>\n",
       "    <tr>\n",
       "      <th>0</th>\n",
       "      <td>Aarav</td>\n",
       "      <td>0</td>\n",
       "      <td>0</td>\n",
       "    </tr>\n",
       "    <tr>\n",
       "      <th>1</th>\n",
       "      <td>Aaryan</td>\n",
       "      <td>0</td>\n",
       "      <td>0</td>\n",
       "    </tr>\n",
       "    <tr>\n",
       "      <th>2</th>\n",
       "      <td>Abha</td>\n",
       "      <td>1</td>\n",
       "      <td>0</td>\n",
       "    </tr>\n",
       "    <tr>\n",
       "      <th>3</th>\n",
       "      <td>Abhay</td>\n",
       "      <td>0</td>\n",
       "      <td>0</td>\n",
       "    </tr>\n",
       "    <tr>\n",
       "      <th>4</th>\n",
       "      <td>Abhilash</td>\n",
       "      <td>0</td>\n",
       "      <td>0</td>\n",
       "    </tr>\n",
       "    <tr>\n",
       "      <th>...</th>\n",
       "      <td>...</td>\n",
       "      <td>...</td>\n",
       "      <td>...</td>\n",
       "    </tr>\n",
       "    <tr>\n",
       "      <th>4690</th>\n",
       "      <td>Worth</td>\n",
       "      <td>0</td>\n",
       "      <td>6</td>\n",
       "    </tr>\n",
       "    <tr>\n",
       "      <th>4691</th>\n",
       "      <td>Wrigley</td>\n",
       "      <td>2</td>\n",
       "      <td>6</td>\n",
       "    </tr>\n",
       "    <tr>\n",
       "      <th>4692</th>\n",
       "      <td>X-iomania</td>\n",
       "      <td>1</td>\n",
       "      <td>6</td>\n",
       "    </tr>\n",
       "    <tr>\n",
       "      <th>4693</th>\n",
       "      <td>Xadrian</td>\n",
       "      <td>0</td>\n",
       "      <td>6</td>\n",
       "    </tr>\n",
       "    <tr>\n",
       "      <th>4694</th>\n",
       "      <td>Xakery</td>\n",
       "      <td>0</td>\n",
       "      <td>6</td>\n",
       "    </tr>\n",
       "  </tbody>\n",
       "</table>\n",
       "<p>4695 rows × 3 columns</p>\n",
       "</div>"
      ],
      "text/plain": [
       "           name  sex  nationality\n",
       "0         Aarav    0            0\n",
       "1        Aaryan    0            0\n",
       "2          Abha    1            0\n",
       "3         Abhay    0            0\n",
       "4      Abhilash    0            0\n",
       "...         ...  ...          ...\n",
       "4690      Worth    0            6\n",
       "4691    Wrigley    2            6\n",
       "4692  X-iomania    1            6\n",
       "4693    Xadrian    0            6\n",
       "4694     Xakery    0            6\n",
       "\n",
       "[4695 rows x 3 columns]"
      ]
     },
     "execution_count": 24,
     "metadata": {},
     "output_type": "execute_result"
    }
   ],
   "source": [
    "data"
   ]
  },
  {
   "cell_type": "code",
   "execution_count": 25,
   "metadata": {},
   "outputs": [],
   "source": [
    "X = data['name']\n",
    "y = data['sex']"
   ]
  },
  {
   "cell_type": "code",
   "execution_count": 26,
   "metadata": {},
   "outputs": [],
   "source": [
    "X = data['name']\n",
    "y = data['sex']\n",
    "from sklearn.feature_extraction.text import CountVectorizer,TfidfVectorizer\n",
    "cv = CountVectorizer()\n",
    "cv.fit(X)\n",
    "X = cv.transform(X)\n",
    "X_train,X_test,y_train,y_test = train_test_split(X,y,test_size=0.25)\n",
    "models = {\n",
    "    'GradientBoostingClassifier':GradientBoostingClassifier(),\n",
    "    'ExtraTreesClassifier':ExtraTreesClassifier(),\n",
    "    'BaggingClassifier':BaggingClassifier(),\n",
    "    'AdaBoostClassifier':AdaBoostClassifier(),\n",
    "    'RandomForestClassifier':RandomForestClassifier(),\n",
    "    'SGDClassifier':SGDClassifier(),\n",
    "    'RidgeClassifier':RidgeClassifier(),\n",
    "    'ExtraTreeClassifier':ExtraTreeClassifier(),\n",
    "    'DecisionTreeClassifier':DecisionTreeClassifier(),\n",
    "}\n",
    "models_clf_results = fit_and_calcuate_metrixs(models,X_train,X_test,y_train,y_test)\n",
    "models_clf_results = pd.DataFrame(models_clf_results.values(),models_clf_results.keys())"
   ]
  },
  {
   "cell_type": "code",
   "execution_count": 27,
   "metadata": {},
   "outputs": [],
   "source": [
    "X_train,X_test,y_train,y_test = train_test_split(X,y,test_size=0.25)"
   ]
  },
  {
   "cell_type": "code",
   "execution_count": 28,
   "metadata": {},
   "outputs": [
    {
     "name": "stdout",
     "output_type": "stream",
     "text": [
      "GradientBoostingClassifier\n"
     ]
    },
    {
     "name": "stderr",
     "output_type": "stream",
     "text": [
      "/home/ranuga/.local/lib/python3.8/site-packages/sklearn/metrics/_classification.py:1221: UndefinedMetricWarning: Precision is ill-defined and being set to 0.0 in labels with no predicted samples. Use `zero_division` parameter to control this behavior.\n",
      "  _warn_prf(average, modifier, msg_start, len(result))\n"
     ]
    },
    {
     "name": "stdout",
     "output_type": "stream",
     "text": [
      "\n",
      "\n",
      "\n",
      "ExtraTreesClassifier\n"
     ]
    },
    {
     "name": "stderr",
     "output_type": "stream",
     "text": [
      "/home/ranuga/.local/lib/python3.8/site-packages/sklearn/metrics/_classification.py:1221: UndefinedMetricWarning: Precision is ill-defined and being set to 0.0 in labels with no predicted samples. Use `zero_division` parameter to control this behavior.\n",
      "  _warn_prf(average, modifier, msg_start, len(result))\n"
     ]
    },
    {
     "name": "stdout",
     "output_type": "stream",
     "text": [
      "\n",
      "\n",
      "\n",
      "BaggingClassifier\n"
     ]
    },
    {
     "name": "stderr",
     "output_type": "stream",
     "text": [
      "/home/ranuga/.local/lib/python3.8/site-packages/sklearn/metrics/_classification.py:1221: UndefinedMetricWarning: Precision is ill-defined and being set to 0.0 in labels with no predicted samples. Use `zero_division` parameter to control this behavior.\n",
      "  _warn_prf(average, modifier, msg_start, len(result))\n"
     ]
    },
    {
     "name": "stdout",
     "output_type": "stream",
     "text": [
      "\n",
      "\n",
      "\n",
      "AdaBoostClassifier\n"
     ]
    },
    {
     "name": "stderr",
     "output_type": "stream",
     "text": [
      "/home/ranuga/.local/lib/python3.8/site-packages/sklearn/metrics/_classification.py:1221: UndefinedMetricWarning: Precision is ill-defined and being set to 0.0 in labels with no predicted samples. Use `zero_division` parameter to control this behavior.\n",
      "  _warn_prf(average, modifier, msg_start, len(result))\n"
     ]
    },
    {
     "name": "stdout",
     "output_type": "stream",
     "text": [
      "\n",
      "\n",
      "\n",
      "RandomForestClassifier\n"
     ]
    },
    {
     "name": "stderr",
     "output_type": "stream",
     "text": [
      "/home/ranuga/.local/lib/python3.8/site-packages/sklearn/metrics/_classification.py:1221: UndefinedMetricWarning: Precision is ill-defined and being set to 0.0 in labels with no predicted samples. Use `zero_division` parameter to control this behavior.\n",
      "  _warn_prf(average, modifier, msg_start, len(result))\n"
     ]
    },
    {
     "name": "stdout",
     "output_type": "stream",
     "text": [
      "\n",
      "\n",
      "\n",
      "SGDClassifier\n",
      "\n",
      "\n",
      "\n",
      "RidgeClassifier\n",
      "\n",
      "\n",
      "\n",
      "ExtraTreeClassifier\n"
     ]
    },
    {
     "name": "stderr",
     "output_type": "stream",
     "text": [
      "/home/ranuga/.local/lib/python3.8/site-packages/sklearn/metrics/_classification.py:1221: UndefinedMetricWarning: Precision is ill-defined and being set to 0.0 in labels with no predicted samples. Use `zero_division` parameter to control this behavior.\n",
      "  _warn_prf(average, modifier, msg_start, len(result))\n",
      "/home/ranuga/.local/lib/python3.8/site-packages/sklearn/metrics/_classification.py:1221: UndefinedMetricWarning: Precision is ill-defined and being set to 0.0 in labels with no predicted samples. Use `zero_division` parameter to control this behavior.\n",
      "  _warn_prf(average, modifier, msg_start, len(result))\n"
     ]
    },
    {
     "name": "stdout",
     "output_type": "stream",
     "text": [
      "\n",
      "\n",
      "\n",
      "DecisionTreeClassifier\n",
      "\n",
      "\n",
      "\n"
     ]
    },
    {
     "name": "stderr",
     "output_type": "stream",
     "text": [
      "/home/ranuga/.local/lib/python3.8/site-packages/sklearn/metrics/_classification.py:1221: UndefinedMetricWarning: Precision is ill-defined and being set to 0.0 in labels with no predicted samples. Use `zero_division` parameter to control this behavior.\n",
      "  _warn_prf(average, modifier, msg_start, len(result))\n"
     ]
    },
    {
     "data": {
      "image/png": "[encoded data removed]",
      "text/plain": [
       "<Figure size 432x288 with 2 Axes>"
      ]
     },
     "metadata": {
      "needs_background": "light"
     },
     "output_type": "display_data"
    },
    {
     "data": {
      "image/png": "[encoded data removed]",
      "text/plain": [
       "<Figure size 432x288 with 2 Axes>"
      ]
     },
     "metadata": {
      "needs_background": "light"
     },
     "output_type": "display_data"
    },
    {
     "data": {
      "image/png": "[encoded data removed]",
      "text/plain": [
       "<Figure size 432x288 with 2 Axes>"
      ]
     },
     "metadata": {
      "needs_background": "light"
     },
     "output_type": "display_data"
    },
    {
     "data": {
      "image/png": "[encoded data removed]",
      "text/plain": [
       "<Figure size 432x288 with 2 Axes>"
      ]
     },
     "metadata": {
      "needs_background": "light"
     },
     "output_type": "display_data"
    },
    {
     "data": {
      "image/png": "[encoded data removed]",
      "text/plain": [
       "<Figure size 432x288 with 2 Axes>"
      ]
     },
     "metadata": {
      "needs_background": "light"
     },
     "output_type": "display_data"
    },
    {
     "data": {
      "image/png": "[encoded data removed]",
      "text/plain": [
       "<Figure size 432x288 with 2 Axes>"
      ]
     },
     "metadata": {
      "needs_background": "light"
     },
     "output_type": "display_data"
    },
    {
     "data": {
      "image/png": "[encoded data removed]",
      "text/plain": [
       "<Figure size 432x288 with 2 Axes>"
      ]
     },
     "metadata": {
      "needs_background": "light"
     },
     "output_type": "display_data"
    },
    {
     "data": {
      "image/png": "[encoded data removed]",
      "text/plain": [
       "<Figure size 432x288 with 2 Axes>"
      ]
     },
     "metadata": {
      "needs_background": "light"
     },
     "output_type": "display_data"
    },
    {
     "data": {
      "image/png": "[encoded data removed]",
      "text/plain": [
       "<Figure size 432x288 with 2 Axes>"
      ]
     },
     "metadata": {
      "needs_background": "light"
     },
     "output_type": "display_data"
    }
   ],
   "source": [
    "models = {\n",
    "    'GradientBoostingClassifier':GradientBoostingClassifier(),\n",
    "    'ExtraTreesClassifier':ExtraTreesClassifier(),\n",
    "    'BaggingClassifier':BaggingClassifier(),\n",
    "    'AdaBoostClassifier':AdaBoostClassifier(),\n",
    "    'RandomForestClassifier':RandomForestClassifier(),\n",
    "    'SGDClassifier':SGDClassifier(),\n",
    "    'RidgeClassifier':RidgeClassifier(),\n",
    "    'ExtraTreeClassifier':ExtraTreeClassifier(),\n",
    "    'DecisionTreeClassifier':DecisionTreeClassifier(),\n",
    "}\n",
    "models_clf_results = fit_and_calcuate_metrixs(models,X_train,X_test,y_train,y_test)\n",
    "models_clf_results = pd.DataFrame(models_clf_results.values(),models_clf_results.keys())"
   ]
  },
  {
   "cell_type": "code",
   "execution_count": 32,
   "metadata": {},
   "outputs": [
    {
     "data": {
      "text/html": [
       "<div>\n",
       "<style scoped>\n",
       "    .dataframe tbody tr th:only-of-type {\n",
       "        vertical-align: middle;\n",
       "    }\n",
       "\n",
       "    .dataframe tbody tr th {\n",
       "        vertical-align: top;\n",
       "    }\n",
       "\n",
       "    .dataframe thead th {\n",
       "        text-align: right;\n",
       "    }\n",
       "</style>\n",
       "<table border=\"1\" class=\"dataframe\">\n",
       "  <thead>\n",
       "    <tr style=\"text-align: right;\">\n",
       "      <th></th>\n",
       "      <th>Accuracy</th>\n",
       "      <th>F1 Score</th>\n",
       "      <th>Precision</th>\n",
       "      <th>Recall</th>\n",
       "    </tr>\n",
       "  </thead>\n",
       "  <tbody>\n",
       "    <tr>\n",
       "      <th>GradientBoostingClassifier</th>\n",
       "      <td>0.557922</td>\n",
       "      <td>0.238746</td>\n",
       "      <td>0.185974</td>\n",
       "      <td>0.333333</td>\n",
       "    </tr>\n",
       "    <tr>\n",
       "      <th>ExtraTreesClassifier</th>\n",
       "      <td>0.558773</td>\n",
       "      <td>0.240915</td>\n",
       "      <td>0.519466</td>\n",
       "      <td>0.334356</td>\n",
       "    </tr>\n",
       "    <tr>\n",
       "      <th>BaggingClassifier</th>\n",
       "      <td>0.558773</td>\n",
       "      <td>0.240915</td>\n",
       "      <td>0.519466</td>\n",
       "      <td>0.334356</td>\n",
       "    </tr>\n",
       "    <tr>\n",
       "      <th>AdaBoostClassifier</th>\n",
       "      <td>0.557922</td>\n",
       "      <td>0.238746</td>\n",
       "      <td>0.185974</td>\n",
       "      <td>0.333333</td>\n",
       "    </tr>\n",
       "    <tr>\n",
       "      <th>RandomForestClassifier</th>\n",
       "      <td>0.558773</td>\n",
       "      <td>0.240915</td>\n",
       "      <td>0.519466</td>\n",
       "      <td>0.334356</td>\n",
       "    </tr>\n",
       "    <tr>\n",
       "      <th>SGDClassifier</th>\n",
       "      <td>0.558773</td>\n",
       "      <td>0.240915</td>\n",
       "      <td>0.519466</td>\n",
       "      <td>0.334356</td>\n",
       "    </tr>\n",
       "    <tr>\n",
       "      <th>RidgeClassifier</th>\n",
       "      <td>0.558773</td>\n",
       "      <td>0.240915</td>\n",
       "      <td>0.519466</td>\n",
       "      <td>0.334356</td>\n",
       "    </tr>\n",
       "    <tr>\n",
       "      <th>ExtraTreeClassifier</th>\n",
       "      <td>0.558773</td>\n",
       "      <td>0.240915</td>\n",
       "      <td>0.519466</td>\n",
       "      <td>0.334356</td>\n",
       "    </tr>\n",
       "    <tr>\n",
       "      <th>DecisionTreeClassifier</th>\n",
       "      <td>0.558773</td>\n",
       "      <td>0.240915</td>\n",
       "      <td>0.519466</td>\n",
       "      <td>0.334356</td>\n",
       "    </tr>\n",
       "  </tbody>\n",
       "</table>\n",
       "</div>"
      ],
      "text/plain": [
       "                            Accuracy  F1 Score  Precision    Recall\n",
       "GradientBoostingClassifier  0.557922  0.238746   0.185974  0.333333\n",
       "ExtraTreesClassifier        0.558773  0.240915   0.519466  0.334356\n",
       "BaggingClassifier           0.558773  0.240915   0.519466  0.334356\n",
       "AdaBoostClassifier          0.557922  0.238746   0.185974  0.333333\n",
       "RandomForestClassifier      0.558773  0.240915   0.519466  0.334356\n",
       "SGDClassifier               0.558773  0.240915   0.519466  0.334356\n",
       "RidgeClassifier             0.558773  0.240915   0.519466  0.334356\n",
       "ExtraTreeClassifier         0.558773  0.240915   0.519466  0.334356\n",
       "DecisionTreeClassifier      0.558773  0.240915   0.519466  0.334356"
      ]
     },
     "execution_count": 32,
     "metadata": {},
     "output_type": "execute_result"
    }
   ],
   "source": [
    "models_clf_results"
   ]
  },
  {
   "cell_type": "code",
   "execution_count": 30,
   "metadata": {},
   "outputs": [
    {
     "data": {
      "text/plain": [
       "<AxesSubplot:>"
      ]
     },
     "execution_count": 30,
     "metadata": {},
     "output_type": "execute_result"
    },
    {
     "data": {
      "image/png": "[encoded data removed]",
      "text/plain": [
       "<Figure size 1440x720 with 1 Axes>"
      ]
     },
     "metadata": {
      "needs_background": "light"
     },
     "output_type": "display_data"
    }
   ],
   "source": [
    "models_clf_results.plot.bar(figsize=(20,10))"
   ]
  },
  {
   "cell_type": "markdown",
   "metadata": {},
   "source": [
    "### SGDClassifier"
   ]
  },
  {
   "cell_type": "code",
   "execution_count": 35,
   "metadata": {},
   "outputs": [
    {
     "name": "stdout",
     "output_type": "stream",
     "text": [
      "Fitting 5 folds for each of 72 candidates, totalling 360 fits\n",
      "[CV] fit_intercept=True, loss=log, penalty=l2, shuffle=True, warm_start=True \n",
      "[CV]  fit_intercept=True, loss=log, penalty=l2, shuffle=True, warm_start=True, score=0.545, total=   0.0s\n",
      "[CV] fit_intercept=True, loss=log, penalty=l2, shuffle=True, warm_start=True \n",
      "[CV]  fit_intercept=True, loss=log, penalty=l2, shuffle=True, warm_start=True, score=0.544, total=   0.0s\n",
      "[CV] fit_intercept=True, loss=log, penalty=l2, shuffle=True, warm_start=True \n",
      "[CV]  fit_intercept=True, loss=log, penalty=l2, shuffle=True, warm_start=True, score=0.544, total=   0.0s\n",
      "[CV] fit_intercept=True, loss=log, penalty=l2, shuffle=True, warm_start=True \n",
      "[CV]  fit_intercept=True, loss=log, penalty=l2, shuffle=True, warm_start=True, score=0.545, total=   0.0s\n",
      "[CV] fit_intercept=True, loss=log, penalty=l2, shuffle=True, warm_start=True \n",
      "[CV]  fit_intercept=True, loss=log, penalty=l2, shuffle=True, warm_start=True, score=0.545, total=   0.0s\n",
      "[CV] fit_intercept=True, loss=log, penalty=l2, shuffle=True, warm_start=False \n",
      "[CV]  fit_intercept=True, loss=log, penalty=l2, shuffle=True, warm_start=False, score=0.545, total=   0.0s\n",
      "[CV] fit_intercept=True, loss=log, penalty=l2, shuffle=True, warm_start=False \n"
     ]
    },
    {
     "name": "stderr",
     "output_type": "stream",
     "text": [
      "[Parallel(n_jobs=1)]: Using backend SequentialBackend with 1 concurrent workers.\n",
      "[Parallel(n_jobs=1)]: Done   1 out of   1 | elapsed:    0.0s remaining:    0.0s\n",
      "[Parallel(n_jobs=1)]: Done   2 out of   2 | elapsed:    0.0s remaining:    0.0s\n",
      "[Parallel(n_jobs=1)]: Done   3 out of   3 | elapsed:    0.1s remaining:    0.0s\n",
      "[Parallel(n_jobs=1)]: Done   4 out of   4 | elapsed:    0.1s remaining:    0.0s\n",
      "[Parallel(n_jobs=1)]: Done   5 out of   5 | elapsed:    0.1s remaining:    0.0s\n",
      "[Parallel(n_jobs=1)]: Done   6 out of   6 | elapsed:    0.2s remaining:    0.0s\n"
     ]
    },
    {
     "name": "stdout",
     "output_type": "stream",
     "text": [
      "[CV]  fit_intercept=True, loss=log, penalty=l2, shuffle=True, warm_start=False, score=0.544, total=   0.0s\n",
      "[CV] fit_intercept=True, loss=log, penalty=l2, shuffle=True, warm_start=False \n",
      "[CV]  fit_intercept=True, loss=log, penalty=l2, shuffle=True, warm_start=False, score=0.544, total=   0.0s\n",
      "[CV] fit_intercept=True, loss=log, penalty=l2, shuffle=True, warm_start=False \n",
      "[CV]  fit_intercept=True, loss=log, penalty=l2, shuffle=True, warm_start=False, score=0.545, total=   0.0s\n",
      "[CV] fit_intercept=True, loss=log, penalty=l2, shuffle=True, warm_start=False \n",
      "[CV]  fit_intercept=True, loss=log, penalty=l2, shuffle=True, warm_start=False, score=0.545, total=   0.0s\n",
      "[CV] fit_intercept=True, loss=log, penalty=l2, shuffle=False, warm_start=True \n",
      "[CV]  fit_intercept=True, loss=log, penalty=l2, shuffle=False, warm_start=True, score=0.545, total=   0.0s\n",
      "[CV] fit_intercept=True, loss=log, penalty=l2, shuffle=False, warm_start=True \n",
      "[CV]  fit_intercept=True, loss=log, penalty=l2, shuffle=False, warm_start=True, score=0.544, total=   0.0s\n",
      "[CV] fit_intercept=True, loss=log, penalty=l2, shuffle=False, warm_start=True \n",
      "[CV]  fit_intercept=True, loss=log, penalty=l2, shuffle=False, warm_start=True, score=0.544, total=   0.0s\n",
      "[CV] fit_intercept=True, loss=log, penalty=l2, shuffle=False, warm_start=True \n",
      "[CV]  fit_intercept=True, loss=log, penalty=l2, shuffle=False, warm_start=True, score=0.545, total=   0.0s\n",
      "[CV] fit_intercept=True, loss=log, penalty=l2, shuffle=False, warm_start=True \n",
      "[CV]  fit_intercept=True, loss=log, penalty=l2, shuffle=False, warm_start=True, score=0.545, total=   0.0s\n",
      "[CV] fit_intercept=True, loss=log, penalty=l2, shuffle=False, warm_start=False \n",
      "[CV]  fit_intercept=True, loss=log, penalty=l2, shuffle=False, warm_start=False, score=0.545, total=   0.0s\n",
      "[CV] fit_intercept=True, loss=log, penalty=l2, shuffle=False, warm_start=False \n"
     ]
    },
    {
     "name": "stderr",
     "output_type": "stream",
     "text": [
      "[Parallel(n_jobs=1)]: Done   7 out of   7 | elapsed:    0.2s remaining:    0.0s\n",
      "[Parallel(n_jobs=1)]: Done   8 out of   8 | elapsed:    0.3s remaining:    0.0s\n",
      "[Parallel(n_jobs=1)]: Done   9 out of   9 | elapsed:    0.3s remaining:    0.0s\n",
      "[Parallel(n_jobs=1)]: Done  10 out of  10 | elapsed:    0.3s remaining:    0.0s\n",
      "[Parallel(n_jobs=1)]: Done  11 out of  11 | elapsed:    0.3s remaining:    0.0s\n",
      "[Parallel(n_jobs=1)]: Done  12 out of  12 | elapsed:    0.4s remaining:    0.0s\n",
      "[Parallel(n_jobs=1)]: Done  13 out of  13 | elapsed:    0.4s remaining:    0.0s\n",
      "[Parallel(n_jobs=1)]: Done  14 out of  14 | elapsed:    0.4s remaining:    0.0s\n",
      "[Parallel(n_jobs=1)]: Done  15 out of  15 | elapsed:    0.4s remaining:    0.0s\n",
      "[Parallel(n_jobs=1)]: Done  16 out of  16 | elapsed:    0.4s remaining:    0.0s\n"
     ]
    },
    {
     "name": "stdout",
     "output_type": "stream",
     "text": [
      "[CV]  fit_intercept=True, loss=log, penalty=l2, shuffle=False, warm_start=False, score=0.544, total=   0.0s\n",
      "[CV] fit_intercept=True, loss=log, penalty=l2, shuffle=False, warm_start=False \n",
      "[CV]  fit_intercept=True, loss=log, penalty=l2, shuffle=False, warm_start=False, score=0.544, total=   0.0s\n",
      "[CV] fit_intercept=True, loss=log, penalty=l2, shuffle=False, warm_start=False \n",
      "[CV]  fit_intercept=True, loss=log, penalty=l2, shuffle=False, warm_start=False, score=0.545, total=   0.0s\n",
      "[CV] fit_intercept=True, loss=log, penalty=l2, shuffle=False, warm_start=False \n",
      "[CV]  fit_intercept=True, loss=log, penalty=l2, shuffle=False, warm_start=False, score=0.545, total=   0.0s\n",
      "[CV] fit_intercept=True, loss=log, penalty=l1, shuffle=True, warm_start=True \n",
      "[CV]  fit_intercept=True, loss=log, penalty=l1, shuffle=True, warm_start=True, score=0.545, total=   0.0s\n",
      "[CV] fit_intercept=True, loss=log, penalty=l1, shuffle=True, warm_start=True \n",
      "[CV]  fit_intercept=True, loss=log, penalty=l1, shuffle=True, warm_start=True, score=0.544, total=   0.0s\n",
      "[CV] fit_intercept=True, loss=log, penalty=l1, shuffle=True, warm_start=True \n",
      "[CV]  fit_intercept=True, loss=log, penalty=l1, shuffle=True, warm_start=True, score=0.544, total=   0.0s\n",
      "[CV] fit_intercept=True, loss=log, penalty=l1, shuffle=True, warm_start=True \n"
     ]
    },
    {
     "name": "stderr",
     "output_type": "stream",
     "text": [
      "[Parallel(n_jobs=1)]: Done  17 out of  17 | elapsed:    0.5s remaining:    0.0s\n",
      "[Parallel(n_jobs=1)]: Done  18 out of  18 | elapsed:    0.5s remaining:    0.0s\n",
      "[Parallel(n_jobs=1)]: Done  19 out of  19 | elapsed:    0.5s remaining:    0.0s\n",
      "[Parallel(n_jobs=1)]: Done  20 out of  20 | elapsed:    0.6s remaining:    0.0s\n",
      "[Parallel(n_jobs=1)]: Done  21 out of  21 | elapsed:    0.6s remaining:    0.0s\n",
      "[Parallel(n_jobs=1)]: Done  22 out of  22 | elapsed:    0.6s remaining:    0.0s\n",
      "[Parallel(n_jobs=1)]: Done  23 out of  23 | elapsed:    0.6s remaining:    0.0s\n"
     ]
    },
    {
     "name": "stdout",
     "output_type": "stream",
     "text": [
      "[CV]  fit_intercept=True, loss=log, penalty=l1, shuffle=True, warm_start=True, score=0.545, total=   0.0s\n",
      "[CV] fit_intercept=True, loss=log, penalty=l1, shuffle=True, warm_start=True \n",
      "[CV]  fit_intercept=True, loss=log, penalty=l1, shuffle=True, warm_start=True, score=0.545, total=   0.1s\n",
      "[CV] fit_intercept=True, loss=log, penalty=l1, shuffle=True, warm_start=False \n",
      "[CV]  fit_intercept=True, loss=log, penalty=l1, shuffle=True, warm_start=False, score=0.545, total=   0.0s\n",
      "[CV] fit_intercept=True, loss=log, penalty=l1, shuffle=True, warm_start=False \n",
      "[CV]  fit_intercept=True, loss=log, penalty=l1, shuffle=True, warm_start=False, score=0.544, total=   0.0s\n",
      "[CV] fit_intercept=True, loss=log, penalty=l1, shuffle=True, warm_start=False \n",
      "[CV]  fit_intercept=True, loss=log, penalty=l1, shuffle=True, warm_start=False, score=0.544, total=   0.0s\n",
      "[CV] fit_intercept=True, loss=log, penalty=l1, shuffle=True, warm_start=False \n",
      "[CV]  fit_intercept=True, loss=log, penalty=l1, shuffle=True, warm_start=False, score=0.545, total=   0.0s\n",
      "[CV] fit_intercept=True, loss=log, penalty=l1, shuffle=True, warm_start=False \n",
      "[CV]  fit_intercept=True, loss=log, penalty=l1, shuffle=True, warm_start=False, score=0.545, total=   0.0s\n",
      "[CV] fit_intercept=True, loss=log, penalty=l1, shuffle=False, warm_start=True \n"
     ]
    },
    {
     "name": "stderr",
     "output_type": "stream",
     "text": [
      "[Parallel(n_jobs=1)]: Done  24 out of  24 | elapsed:    0.7s remaining:    0.0s\n"
     ]
    },
    {
     "name": "stdout",
     "output_type": "stream",
     "text": [
      "[CV]  fit_intercept=True, loss=log, penalty=l1, shuffle=False, warm_start=True, score=0.545, total=   0.0s\n",
      "[CV] fit_intercept=True, loss=log, penalty=l1, shuffle=False, warm_start=True \n",
      "[CV]  fit_intercept=True, loss=log, penalty=l1, shuffle=False, warm_start=True, score=0.544, total=   0.0s\n",
      "[CV] fit_intercept=True, loss=log, penalty=l1, shuffle=False, warm_start=True \n",
      "[CV]  fit_intercept=True, loss=log, penalty=l1, shuffle=False, warm_start=True, score=0.544, total=   0.1s\n",
      "[CV] fit_intercept=True, loss=log, penalty=l1, shuffle=False, warm_start=True \n",
      "[CV]  fit_intercept=True, loss=log, penalty=l1, shuffle=False, warm_start=True, score=0.545, total=   0.0s\n",
      "[CV] fit_intercept=True, loss=log, penalty=l1, shuffle=False, warm_start=True \n",
      "[CV]  fit_intercept=True, loss=log, penalty=l1, shuffle=False, warm_start=True, score=0.545, total=   0.0s\n",
      "[CV] fit_intercept=True, loss=log, penalty=l1, shuffle=False, warm_start=False \n",
      "[CV]  fit_intercept=True, loss=log, penalty=l1, shuffle=False, warm_start=False, score=0.545, total=   0.0s\n",
      "[CV] fit_intercept=True, loss=log, penalty=l1, shuffle=False, warm_start=False \n",
      "[CV]  fit_intercept=True, loss=log, penalty=l1, shuffle=False, warm_start=False, score=0.544, total=   0.0s\n",
      "[CV] fit_intercept=True, loss=log, penalty=l1, shuffle=False, warm_start=False \n",
      "[CV]  fit_intercept=True, loss=log, penalty=l1, shuffle=False, warm_start=False, score=0.544, total=   0.1s\n",
      "[CV] fit_intercept=True, loss=log, penalty=l1, shuffle=False, warm_start=False \n",
      "[CV]  fit_intercept=True, loss=log, penalty=l1, shuffle=False, warm_start=False, score=0.545, total=   0.0s\n",
      "[CV] fit_intercept=True, loss=log, penalty=l1, shuffle=False, warm_start=False \n",
      "[CV]  fit_intercept=True, loss=log, penalty=l1, shuffle=False, warm_start=False, score=0.545, total=   0.0s\n",
      "[CV] fit_intercept=True, loss=log, penalty=elasticnet, shuffle=True, warm_start=True \n",
      "[CV]  fit_intercept=True, loss=log, penalty=elasticnet, shuffle=True, warm_start=True, score=0.545, total=   0.0s\n",
      "[CV] fit_intercept=True, loss=log, penalty=elasticnet, shuffle=True, warm_start=True \n",
      "[CV]  fit_intercept=True, loss=log, penalty=elasticnet, shuffle=True, warm_start=True, score=0.544, total=   0.0s\n",
      "[CV] fit_intercept=True, loss=log, penalty=elasticnet, shuffle=True, warm_start=True \n",
      "[CV]  fit_intercept=True, loss=log, penalty=elasticnet, shuffle=True, warm_start=True, score=0.544, total=   0.0s\n",
      "[CV] fit_intercept=True, loss=log, penalty=elasticnet, shuffle=True, warm_start=True \n",
      "[CV]  fit_intercept=True, loss=log, penalty=elasticnet, shuffle=True, warm_start=True, score=0.545, total=   0.0s\n",
      "[CV] fit_intercept=True, loss=log, penalty=elasticnet, shuffle=True, warm_start=True \n",
      "[CV]  fit_intercept=True, loss=log, penalty=elasticnet, shuffle=True, warm_start=True, score=0.545, total=   0.0s\n",
      "[CV] fit_intercept=True, loss=log, penalty=elasticnet, shuffle=True, warm_start=False \n",
      "[CV]  fit_intercept=True, loss=log, penalty=elasticnet, shuffle=True, warm_start=False, score=0.545, total=   0.0s\n",
      "[CV] fit_intercept=True, loss=log, penalty=elasticnet, shuffle=True, warm_start=False \n",
      "[CV]  fit_intercept=True, loss=log, penalty=elasticnet, shuffle=True, warm_start=False, score=0.544, total=   0.0s\n",
      "[CV] fit_intercept=True, loss=log, penalty=elasticnet, shuffle=True, warm_start=False \n",
      "[CV]  fit_intercept=True, loss=log, penalty=elasticnet, shuffle=True, warm_start=False, score=0.544, total=   0.0s\n",
      "[CV] fit_intercept=True, loss=log, penalty=elasticnet, shuffle=True, warm_start=False \n",
      "[CV]  fit_intercept=True, loss=log, penalty=elasticnet, shuffle=True, warm_start=False, score=0.545, total=   0.0s\n",
      "[CV] fit_intercept=True, loss=log, penalty=elasticnet, shuffle=True, warm_start=False \n",
      "[CV]  fit_intercept=True, loss=log, penalty=elasticnet, shuffle=True, warm_start=False, score=0.545, total=   0.0s\n",
      "[CV] fit_intercept=True, loss=log, penalty=elasticnet, shuffle=False, warm_start=True \n",
      "[CV]  fit_intercept=True, loss=log, penalty=elasticnet, shuffle=False, warm_start=True, score=0.545, total=   0.0s\n",
      "[CV] fit_intercept=True, loss=log, penalty=elasticnet, shuffle=False, warm_start=True \n",
      "[CV]  fit_intercept=True, loss=log, penalty=elasticnet, shuffle=False, warm_start=True, score=0.544, total=   0.0s\n",
      "[CV] fit_intercept=True, loss=log, penalty=elasticnet, shuffle=False, warm_start=True \n",
      "[CV]  fit_intercept=True, loss=log, penalty=elasticnet, shuffle=False, warm_start=True, score=0.544, total=   0.0s\n",
      "[CV] fit_intercept=True, loss=log, penalty=elasticnet, shuffle=False, warm_start=True \n",
      "[CV]  fit_intercept=True, loss=log, penalty=elasticnet, shuffle=False, warm_start=True, score=0.545, total=   0.0s\n",
      "[CV] fit_intercept=True, loss=log, penalty=elasticnet, shuffle=False, warm_start=True \n",
      "[CV]  fit_intercept=True, loss=log, penalty=elasticnet, shuffle=False, warm_start=True, score=0.545, total=   0.0s\n",
      "[CV] fit_intercept=True, loss=log, penalty=elasticnet, shuffle=False, warm_start=False \n",
      "[CV]  fit_intercept=True, loss=log, penalty=elasticnet, shuffle=False, warm_start=False, score=0.545, total=   0.0s\n",
      "[CV] fit_intercept=True, loss=log, penalty=elasticnet, shuffle=False, warm_start=False \n",
      "[CV]  fit_intercept=True, loss=log, penalty=elasticnet, shuffle=False, warm_start=False, score=0.544, total=   0.0s\n",
      "[CV] fit_intercept=True, loss=log, penalty=elasticnet, shuffle=False, warm_start=False \n",
      "[CV]  fit_intercept=True, loss=log, penalty=elasticnet, shuffle=False, warm_start=False, score=0.544, total=   0.0s\n",
      "[CV] fit_intercept=True, loss=log, penalty=elasticnet, shuffle=False, warm_start=False \n",
      "[CV]  fit_intercept=True, loss=log, penalty=elasticnet, shuffle=False, warm_start=False, score=0.545, total=   0.0s\n",
      "[CV] fit_intercept=True, loss=log, penalty=elasticnet, shuffle=False, warm_start=False \n",
      "[CV]  fit_intercept=True, loss=log, penalty=elasticnet, shuffle=False, warm_start=False, score=0.545, total=   0.0s\n",
      "[CV] fit_intercept=True, loss=hinge, penalty=l2, shuffle=True, warm_start=True \n",
      "[CV]  fit_intercept=True, loss=hinge, penalty=l2, shuffle=True, warm_start=True, score=0.545, total=   0.0s\n",
      "[CV] fit_intercept=True, loss=hinge, penalty=l2, shuffle=True, warm_start=True \n",
      "[CV]  fit_intercept=True, loss=hinge, penalty=l2, shuffle=True, warm_start=True, score=0.544, total=   0.0s\n",
      "[CV] fit_intercept=True, loss=hinge, penalty=l2, shuffle=True, warm_start=True \n",
      "[CV]  fit_intercept=True, loss=hinge, penalty=l2, shuffle=True, warm_start=True, score=0.544, total=   0.0s\n",
      "[CV] fit_intercept=True, loss=hinge, penalty=l2, shuffle=True, warm_start=True \n",
      "[CV]  fit_intercept=True, loss=hinge, penalty=l2, shuffle=True, warm_start=True, score=0.545, total=   0.0s\n",
      "[CV] fit_intercept=True, loss=hinge, penalty=l2, shuffle=True, warm_start=True \n",
      "[CV]  fit_intercept=True, loss=hinge, penalty=l2, shuffle=True, warm_start=True, score=0.545, total=   0.0s\n",
      "[CV] fit_intercept=True, loss=hinge, penalty=l2, shuffle=True, warm_start=False \n",
      "[CV]  fit_intercept=True, loss=hinge, penalty=l2, shuffle=True, warm_start=False, score=0.545, total=   0.0s\n",
      "[CV] fit_intercept=True, loss=hinge, penalty=l2, shuffle=True, warm_start=False \n",
      "[CV]  fit_intercept=True, loss=hinge, penalty=l2, shuffle=True, warm_start=False, score=0.544, total=   0.0s\n",
      "[CV] fit_intercept=True, loss=hinge, penalty=l2, shuffle=True, warm_start=False \n",
      "[CV]  fit_intercept=True, loss=hinge, penalty=l2, shuffle=True, warm_start=False, score=0.544, total=   0.0s\n",
      "[CV] fit_intercept=True, loss=hinge, penalty=l2, shuffle=True, warm_start=False \n",
      "[CV]  fit_intercept=True, loss=hinge, penalty=l2, shuffle=True, warm_start=False, score=0.545, total=   0.0s\n",
      "[CV] fit_intercept=True, loss=hinge, penalty=l2, shuffle=True, warm_start=False \n",
      "[CV]  fit_intercept=True, loss=hinge, penalty=l2, shuffle=True, warm_start=False, score=0.545, total=   0.0s\n",
      "[CV] fit_intercept=True, loss=hinge, penalty=l2, shuffle=False, warm_start=True \n",
      "[CV]  fit_intercept=True, loss=hinge, penalty=l2, shuffle=False, warm_start=True, score=0.545, total=   0.0s\n",
      "[CV] fit_intercept=True, loss=hinge, penalty=l2, shuffle=False, warm_start=True \n",
      "[CV]  fit_intercept=True, loss=hinge, penalty=l2, shuffle=False, warm_start=True, score=0.544, total=   0.0s\n",
      "[CV] fit_intercept=True, loss=hinge, penalty=l2, shuffle=False, warm_start=True \n",
      "[CV]  fit_intercept=True, loss=hinge, penalty=l2, shuffle=False, warm_start=True, score=0.544, total=   0.0s\n",
      "[CV] fit_intercept=True, loss=hinge, penalty=l2, shuffle=False, warm_start=True \n",
      "[CV]  fit_intercept=True, loss=hinge, penalty=l2, shuffle=False, warm_start=True, score=0.545, total=   0.0s\n",
      "[CV] fit_intercept=True, loss=hinge, penalty=l2, shuffle=False, warm_start=True \n",
      "[CV]  fit_intercept=True, loss=hinge, penalty=l2, shuffle=False, warm_start=True, score=0.545, total=   0.0s\n",
      "[CV] fit_intercept=True, loss=hinge, penalty=l2, shuffle=False, warm_start=False \n",
      "[CV]  fit_intercept=True, loss=hinge, penalty=l2, shuffle=False, warm_start=False, score=0.545, total=   0.0s\n",
      "[CV] fit_intercept=True, loss=hinge, penalty=l2, shuffle=False, warm_start=False \n",
      "[CV]  fit_intercept=True, loss=hinge, penalty=l2, shuffle=False, warm_start=False, score=0.544, total=   0.0s\n",
      "[CV] fit_intercept=True, loss=hinge, penalty=l2, shuffle=False, warm_start=False \n",
      "[CV]  fit_intercept=True, loss=hinge, penalty=l2, shuffle=False, warm_start=False, score=0.544, total=   0.0s\n",
      "[CV] fit_intercept=True, loss=hinge, penalty=l2, shuffle=False, warm_start=False \n",
      "[CV]  fit_intercept=True, loss=hinge, penalty=l2, shuffle=False, warm_start=False, score=0.545, total=   0.0s\n",
      "[CV] fit_intercept=True, loss=hinge, penalty=l2, shuffle=False, warm_start=False \n"
     ]
    },
    {
     "name": "stdout",
     "output_type": "stream",
     "text": [
      "[CV]  fit_intercept=True, loss=hinge, penalty=l2, shuffle=False, warm_start=False, score=0.545, total=   0.0s\n",
      "[CV] fit_intercept=True, loss=hinge, penalty=l1, shuffle=True, warm_start=True \n",
      "[CV]  fit_intercept=True, loss=hinge, penalty=l1, shuffle=True, warm_start=True, score=0.545, total=   0.0s\n",
      "[CV] fit_intercept=True, loss=hinge, penalty=l1, shuffle=True, warm_start=True \n",
      "[CV]  fit_intercept=True, loss=hinge, penalty=l1, shuffle=True, warm_start=True, score=0.544, total=   0.0s\n",
      "[CV] fit_intercept=True, loss=hinge, penalty=l1, shuffle=True, warm_start=True \n",
      "[CV]  fit_intercept=True, loss=hinge, penalty=l1, shuffle=True, warm_start=True, score=0.544, total=   0.0s\n",
      "[CV] fit_intercept=True, loss=hinge, penalty=l1, shuffle=True, warm_start=True \n",
      "[CV]  fit_intercept=True, loss=hinge, penalty=l1, shuffle=True, warm_start=True, score=0.545, total=   0.0s\n",
      "[CV] fit_intercept=True, loss=hinge, penalty=l1, shuffle=True, warm_start=True \n",
      "[CV]  fit_intercept=True, loss=hinge, penalty=l1, shuffle=True, warm_start=True, score=0.545, total=   0.0s\n",
      "[CV] fit_intercept=True, loss=hinge, penalty=l1, shuffle=True, warm_start=False \n",
      "[CV]  fit_intercept=True, loss=hinge, penalty=l1, shuffle=True, warm_start=False, score=0.545, total=   0.0s\n",
      "[CV] fit_intercept=True, loss=hinge, penalty=l1, shuffle=True, warm_start=False \n",
      "[CV]  fit_intercept=True, loss=hinge, penalty=l1, shuffle=True, warm_start=False, score=0.544, total=   0.0s\n",
      "[CV] fit_intercept=True, loss=hinge, penalty=l1, shuffle=True, warm_start=False \n",
      "[CV]  fit_intercept=True, loss=hinge, penalty=l1, shuffle=True, warm_start=False, score=0.544, total=   0.0s\n",
      "[CV] fit_intercept=True, loss=hinge, penalty=l1, shuffle=True, warm_start=False \n",
      "[CV]  fit_intercept=True, loss=hinge, penalty=l1, shuffle=True, warm_start=False, score=0.545, total=   0.0s\n",
      "[CV] fit_intercept=True, loss=hinge, penalty=l1, shuffle=True, warm_start=False \n",
      "[CV]  fit_intercept=True, loss=hinge, penalty=l1, shuffle=True, warm_start=False, score=0.545, total=   0.1s\n",
      "[CV] fit_intercept=True, loss=hinge, penalty=l1, shuffle=False, warm_start=True \n",
      "[CV]  fit_intercept=True, loss=hinge, penalty=l1, shuffle=False, warm_start=True, score=0.545, total=   0.0s\n",
      "[CV] fit_intercept=True, loss=hinge, penalty=l1, shuffle=False, warm_start=True \n",
      "[CV]  fit_intercept=True, loss=hinge, penalty=l1, shuffle=False, warm_start=True, score=0.544, total=   0.0s\n",
      "[CV] fit_intercept=True, loss=hinge, penalty=l1, shuffle=False, warm_start=True \n",
      "[CV]  fit_intercept=True, loss=hinge, penalty=l1, shuffle=False, warm_start=True, score=0.544, total=   0.0s\n",
      "[CV] fit_intercept=True, loss=hinge, penalty=l1, shuffle=False, warm_start=True \n",
      "[CV]  fit_intercept=True, loss=hinge, penalty=l1, shuffle=False, warm_start=True, score=0.545, total=   0.0s\n",
      "[CV] fit_intercept=True, loss=hinge, penalty=l1, shuffle=False, warm_start=True \n",
      "[CV]  fit_intercept=True, loss=hinge, penalty=l1, shuffle=False, warm_start=True, score=0.545, total=   0.0s\n",
      "[CV] fit_intercept=True, loss=hinge, penalty=l1, shuffle=False, warm_start=False \n",
      "[CV]  fit_intercept=True, loss=hinge, penalty=l1, shuffle=False, warm_start=False, score=0.545, total=   0.0s\n",
      "[CV] fit_intercept=True, loss=hinge, penalty=l1, shuffle=False, warm_start=False \n",
      "[CV]  fit_intercept=True, loss=hinge, penalty=l1, shuffle=False, warm_start=False, score=0.544, total=   0.0s\n",
      "[CV] fit_intercept=True, loss=hinge, penalty=l1, shuffle=False, warm_start=False \n",
      "[CV]  fit_intercept=True, loss=hinge, penalty=l1, shuffle=False, warm_start=False, score=0.544, total=   0.0s\n",
      "[CV] fit_intercept=True, loss=hinge, penalty=l1, shuffle=False, warm_start=False \n",
      "[CV]  fit_intercept=True, loss=hinge, penalty=l1, shuffle=False, warm_start=False, score=0.545, total=   0.0s\n",
      "[CV] fit_intercept=True, loss=hinge, penalty=l1, shuffle=False, warm_start=False \n",
      "[CV]  fit_intercept=True, loss=hinge, penalty=l1, shuffle=False, warm_start=False, score=0.545, total=   0.0s\n",
      "[CV] fit_intercept=True, loss=hinge, penalty=elasticnet, shuffle=True, warm_start=True \n",
      "[CV]  fit_intercept=True, loss=hinge, penalty=elasticnet, shuffle=True, warm_start=True, score=0.545, total=   0.0s\n",
      "[CV] fit_intercept=True, loss=hinge, penalty=elasticnet, shuffle=True, warm_start=True \n",
      "[CV]  fit_intercept=True, loss=hinge, penalty=elasticnet, shuffle=True, warm_start=True, score=0.544, total=   0.0s\n",
      "[CV] fit_intercept=True, loss=hinge, penalty=elasticnet, shuffle=True, warm_start=True \n",
      "[CV]  fit_intercept=True, loss=hinge, penalty=elasticnet, shuffle=True, warm_start=True, score=0.544, total=   0.0s\n",
      "[CV] fit_intercept=True, loss=hinge, penalty=elasticnet, shuffle=True, warm_start=True \n",
      "[CV]  fit_intercept=True, loss=hinge, penalty=elasticnet, shuffle=True, warm_start=True, score=0.545, total=   0.0s\n",
      "[CV] fit_intercept=True, loss=hinge, penalty=elasticnet, shuffle=True, warm_start=True \n",
      "[CV]  fit_intercept=True, loss=hinge, penalty=elasticnet, shuffle=True, warm_start=True, score=0.545, total=   0.0s\n",
      "[CV] fit_intercept=True, loss=hinge, penalty=elasticnet, shuffle=True, warm_start=False \n",
      "[CV]  fit_intercept=True, loss=hinge, penalty=elasticnet, shuffle=True, warm_start=False, score=0.545, total=   0.0s\n",
      "[CV] fit_intercept=True, loss=hinge, penalty=elasticnet, shuffle=True, warm_start=False \n",
      "[CV]  fit_intercept=True, loss=hinge, penalty=elasticnet, shuffle=True, warm_start=False, score=0.544, total=   0.0s\n",
      "[CV] fit_intercept=True, loss=hinge, penalty=elasticnet, shuffle=True, warm_start=False \n",
      "[CV]  fit_intercept=True, loss=hinge, penalty=elasticnet, shuffle=True, warm_start=False, score=0.544, total=   0.0s\n",
      "[CV] fit_intercept=True, loss=hinge, penalty=elasticnet, shuffle=True, warm_start=False \n",
      "[CV]  fit_intercept=True, loss=hinge, penalty=elasticnet, shuffle=True, warm_start=False, score=0.545, total=   0.0s\n",
      "[CV] fit_intercept=True, loss=hinge, penalty=elasticnet, shuffle=True, warm_start=False \n",
      "[CV]  fit_intercept=True, loss=hinge, penalty=elasticnet, shuffle=True, warm_start=False, score=0.545, total=   0.0s\n",
      "[CV] fit_intercept=True, loss=hinge, penalty=elasticnet, shuffle=False, warm_start=True \n",
      "[CV]  fit_intercept=True, loss=hinge, penalty=elasticnet, shuffle=False, warm_start=True, score=0.545, total=   0.0s\n",
      "[CV] fit_intercept=True, loss=hinge, penalty=elasticnet, shuffle=False, warm_start=True \n",
      "[CV]  fit_intercept=True, loss=hinge, penalty=elasticnet, shuffle=False, warm_start=True, score=0.544, total=   0.0s\n",
      "[CV] fit_intercept=True, loss=hinge, penalty=elasticnet, shuffle=False, warm_start=True \n",
      "[CV]  fit_intercept=True, loss=hinge, penalty=elasticnet, shuffle=False, warm_start=True, score=0.544, total=   0.0s\n",
      "[CV] fit_intercept=True, loss=hinge, penalty=elasticnet, shuffle=False, warm_start=True \n",
      "[CV]  fit_intercept=True, loss=hinge, penalty=elasticnet, shuffle=False, warm_start=True, score=0.545, total=   0.0s\n",
      "[CV] fit_intercept=True, loss=hinge, penalty=elasticnet, shuffle=False, warm_start=True \n",
      "[CV]  fit_intercept=True, loss=hinge, penalty=elasticnet, shuffle=False, warm_start=True, score=0.545, total=   0.0s\n",
      "[CV] fit_intercept=True, loss=hinge, penalty=elasticnet, shuffle=False, warm_start=False \n",
      "[CV]  fit_intercept=True, loss=hinge, penalty=elasticnet, shuffle=False, warm_start=False, score=0.545, total=   0.0s\n",
      "[CV] fit_intercept=True, loss=hinge, penalty=elasticnet, shuffle=False, warm_start=False \n",
      "[CV]  fit_intercept=True, loss=hinge, penalty=elasticnet, shuffle=False, warm_start=False, score=0.544, total=   0.0s\n",
      "[CV] fit_intercept=True, loss=hinge, penalty=elasticnet, shuffle=False, warm_start=False \n",
      "[CV]  fit_intercept=True, loss=hinge, penalty=elasticnet, shuffle=False, warm_start=False, score=0.544, total=   0.0s\n",
      "[CV] fit_intercept=True, loss=hinge, penalty=elasticnet, shuffle=False, warm_start=False \n",
      "[CV]  fit_intercept=True, loss=hinge, penalty=elasticnet, shuffle=False, warm_start=False, score=0.545, total=   0.0s\n",
      "[CV] fit_intercept=True, loss=hinge, penalty=elasticnet, shuffle=False, warm_start=False \n",
      "[CV]  fit_intercept=True, loss=hinge, penalty=elasticnet, shuffle=False, warm_start=False, score=0.545, total=   0.0s\n",
      "[CV] fit_intercept=True, loss=perceptron, penalty=l2, shuffle=True, warm_start=True \n",
      "[CV]  fit_intercept=True, loss=perceptron, penalty=l2, shuffle=True, warm_start=True, score=0.545, total=   0.0s\n",
      "[CV] fit_intercept=True, loss=perceptron, penalty=l2, shuffle=True, warm_start=True \n",
      "[CV]  fit_intercept=True, loss=perceptron, penalty=l2, shuffle=True, warm_start=True, score=0.544, total=   0.0s\n",
      "[CV] fit_intercept=True, loss=perceptron, penalty=l2, shuffle=True, warm_start=True \n",
      "[CV]  fit_intercept=True, loss=perceptron, penalty=l2, shuffle=True, warm_start=True, score=0.544, total=   0.0s\n",
      "[CV] fit_intercept=True, loss=perceptron, penalty=l2, shuffle=True, warm_start=True \n",
      "[CV]  fit_intercept=True, loss=perceptron, penalty=l2, shuffle=True, warm_start=True, score=0.545, total=   0.0s\n",
      "[CV] fit_intercept=True, loss=perceptron, penalty=l2, shuffle=True, warm_start=True \n"
     ]
    },
    {
     "name": "stdout",
     "output_type": "stream",
     "text": [
      "[CV]  fit_intercept=True, loss=perceptron, penalty=l2, shuffle=True, warm_start=True, score=0.545, total=   0.0s\n",
      "[CV] fit_intercept=True, loss=perceptron, penalty=l2, shuffle=True, warm_start=False \n",
      "[CV]  fit_intercept=True, loss=perceptron, penalty=l2, shuffle=True, warm_start=False, score=0.545, total=   0.0s\n",
      "[CV] fit_intercept=True, loss=perceptron, penalty=l2, shuffle=True, warm_start=False \n",
      "[CV]  fit_intercept=True, loss=perceptron, penalty=l2, shuffle=True, warm_start=False, score=0.544, total=   0.0s\n",
      "[CV] fit_intercept=True, loss=perceptron, penalty=l2, shuffle=True, warm_start=False \n",
      "[CV]  fit_intercept=True, loss=perceptron, penalty=l2, shuffle=True, warm_start=False, score=0.544, total=   0.0s\n",
      "[CV] fit_intercept=True, loss=perceptron, penalty=l2, shuffle=True, warm_start=False \n",
      "[CV]  fit_intercept=True, loss=perceptron, penalty=l2, shuffle=True, warm_start=False, score=0.545, total=   0.0s\n",
      "[CV] fit_intercept=True, loss=perceptron, penalty=l2, shuffle=True, warm_start=False \n",
      "[CV]  fit_intercept=True, loss=perceptron, penalty=l2, shuffle=True, warm_start=False, score=0.545, total=   0.0s\n",
      "[CV] fit_intercept=True, loss=perceptron, penalty=l2, shuffle=False, warm_start=True \n",
      "[CV]  fit_intercept=True, loss=perceptron, penalty=l2, shuffle=False, warm_start=True, score=0.545, total=   0.0s\n",
      "[CV] fit_intercept=True, loss=perceptron, penalty=l2, shuffle=False, warm_start=True \n",
      "[CV]  fit_intercept=True, loss=perceptron, penalty=l2, shuffle=False, warm_start=True, score=0.544, total=   0.0s\n",
      "[CV] fit_intercept=True, loss=perceptron, penalty=l2, shuffle=False, warm_start=True \n",
      "[CV]  fit_intercept=True, loss=perceptron, penalty=l2, shuffle=False, warm_start=True, score=0.544, total=   0.0s\n",
      "[CV] fit_intercept=True, loss=perceptron, penalty=l2, shuffle=False, warm_start=True \n",
      "[CV]  fit_intercept=True, loss=perceptron, penalty=l2, shuffle=False, warm_start=True, score=0.545, total=   0.0s\n",
      "[CV] fit_intercept=True, loss=perceptron, penalty=l2, shuffle=False, warm_start=True \n",
      "[CV]  fit_intercept=True, loss=perceptron, penalty=l2, shuffle=False, warm_start=True, score=0.293, total=   0.0s\n",
      "[CV] fit_intercept=True, loss=perceptron, penalty=l2, shuffle=False, warm_start=False \n",
      "[CV]  fit_intercept=True, loss=perceptron, penalty=l2, shuffle=False, warm_start=False, score=0.545, total=   0.0s\n",
      "[CV] fit_intercept=True, loss=perceptron, penalty=l2, shuffle=False, warm_start=False \n",
      "[CV]  fit_intercept=True, loss=perceptron, penalty=l2, shuffle=False, warm_start=False, score=0.544, total=   0.0s\n",
      "[CV] fit_intercept=True, loss=perceptron, penalty=l2, shuffle=False, warm_start=False \n",
      "[CV]  fit_intercept=True, loss=perceptron, penalty=l2, shuffle=False, warm_start=False, score=0.544, total=   0.0s\n",
      "[CV] fit_intercept=True, loss=perceptron, penalty=l2, shuffle=False, warm_start=False \n",
      "[CV]  fit_intercept=True, loss=perceptron, penalty=l2, shuffle=False, warm_start=False, score=0.545, total=   0.0s\n",
      "[CV] fit_intercept=True, loss=perceptron, penalty=l2, shuffle=False, warm_start=False \n",
      "[CV]  fit_intercept=True, loss=perceptron, penalty=l2, shuffle=False, warm_start=False, score=0.293, total=   0.0s\n",
      "[CV] fit_intercept=True, loss=perceptron, penalty=l1, shuffle=True, warm_start=True \n",
      "[CV]  fit_intercept=True, loss=perceptron, penalty=l1, shuffle=True, warm_start=True, score=0.545, total=   0.0s\n",
      "[CV] fit_intercept=True, loss=perceptron, penalty=l1, shuffle=True, warm_start=True \n",
      "[CV]  fit_intercept=True, loss=perceptron, penalty=l1, shuffle=True, warm_start=True, score=0.544, total=   0.0s\n",
      "[CV] fit_intercept=True, loss=perceptron, penalty=l1, shuffle=True, warm_start=True \n",
      "[CV]  fit_intercept=True, loss=perceptron, penalty=l1, shuffle=True, warm_start=True, score=0.293, total=   0.0s\n",
      "[CV] fit_intercept=True, loss=perceptron, penalty=l1, shuffle=True, warm_start=True \n",
      "[CV]  fit_intercept=True, loss=perceptron, penalty=l1, shuffle=True, warm_start=True, score=0.545, total=   0.0s\n",
      "[CV] fit_intercept=True, loss=perceptron, penalty=l1, shuffle=True, warm_start=True \n",
      "[CV]  fit_intercept=True, loss=perceptron, penalty=l1, shuffle=True, warm_start=True, score=0.545, total=   0.0s\n",
      "[CV] fit_intercept=True, loss=perceptron, penalty=l1, shuffle=True, warm_start=False \n",
      "[CV]  fit_intercept=True, loss=perceptron, penalty=l1, shuffle=True, warm_start=False, score=0.292, total=   0.0s\n",
      "[CV] fit_intercept=True, loss=perceptron, penalty=l1, shuffle=True, warm_start=False \n",
      "[CV]  fit_intercept=True, loss=perceptron, penalty=l1, shuffle=True, warm_start=False, score=0.544, total=   0.0s\n",
      "[CV] fit_intercept=True, loss=perceptron, penalty=l1, shuffle=True, warm_start=False \n",
      "[CV]  fit_intercept=True, loss=perceptron, penalty=l1, shuffle=True, warm_start=False, score=0.544, total=   0.0s\n",
      "[CV] fit_intercept=True, loss=perceptron, penalty=l1, shuffle=True, warm_start=False \n",
      "[CV]  fit_intercept=True, loss=perceptron, penalty=l1, shuffle=True, warm_start=False, score=0.293, total=   0.0s\n",
      "[CV] fit_intercept=True, loss=perceptron, penalty=l1, shuffle=True, warm_start=False \n",
      "[CV]  fit_intercept=True, loss=perceptron, penalty=l1, shuffle=True, warm_start=False, score=0.293, total=   0.0s\n",
      "[CV] fit_intercept=True, loss=perceptron, penalty=l1, shuffle=False, warm_start=True \n",
      "[CV]  fit_intercept=True, loss=perceptron, penalty=l1, shuffle=False, warm_start=True, score=0.292, total=   0.0s\n",
      "[CV] fit_intercept=True, loss=perceptron, penalty=l1, shuffle=False, warm_start=True \n",
      "[CV]  fit_intercept=True, loss=perceptron, penalty=l1, shuffle=False, warm_start=True, score=0.163, total=   0.0s\n",
      "[CV] fit_intercept=True, loss=perceptron, penalty=l1, shuffle=False, warm_start=True \n",
      "[CV]  fit_intercept=True, loss=perceptron, penalty=l1, shuffle=False, warm_start=True, score=0.293, total=   0.0s\n",
      "[CV] fit_intercept=True, loss=perceptron, penalty=l1, shuffle=False, warm_start=True \n",
      "[CV]  fit_intercept=True, loss=perceptron, penalty=l1, shuffle=False, warm_start=True, score=0.545, total=   0.0s\n",
      "[CV] fit_intercept=True, loss=perceptron, penalty=l1, shuffle=False, warm_start=True \n",
      "[CV]  fit_intercept=True, loss=perceptron, penalty=l1, shuffle=False, warm_start=True, score=0.162, total=   0.0s\n",
      "[CV] fit_intercept=True, loss=perceptron, penalty=l1, shuffle=False, warm_start=False \n",
      "[CV]  fit_intercept=True, loss=perceptron, penalty=l1, shuffle=False, warm_start=False, score=0.292, total=   0.0s\n",
      "[CV] fit_intercept=True, loss=perceptron, penalty=l1, shuffle=False, warm_start=False \n",
      "[CV]  fit_intercept=True, loss=perceptron, penalty=l1, shuffle=False, warm_start=False, score=0.163, total=   0.0s\n",
      "[CV] fit_intercept=True, loss=perceptron, penalty=l1, shuffle=False, warm_start=False \n",
      "[CV]  fit_intercept=True, loss=perceptron, penalty=l1, shuffle=False, warm_start=False, score=0.293, total=   0.0s\n",
      "[CV] fit_intercept=True, loss=perceptron, penalty=l1, shuffle=False, warm_start=False \n",
      "[CV]  fit_intercept=True, loss=perceptron, penalty=l1, shuffle=False, warm_start=False, score=0.545, total=   0.0s\n",
      "[CV] fit_intercept=True, loss=perceptron, penalty=l1, shuffle=False, warm_start=False \n",
      "[CV]  fit_intercept=True, loss=perceptron, penalty=l1, shuffle=False, warm_start=False, score=0.162, total=   0.0s\n",
      "[CV] fit_intercept=True, loss=perceptron, penalty=elasticnet, shuffle=True, warm_start=True \n",
      "[CV]  fit_intercept=True, loss=perceptron, penalty=elasticnet, shuffle=True, warm_start=True, score=0.545, total=   0.0s\n",
      "[CV] fit_intercept=True, loss=perceptron, penalty=elasticnet, shuffle=True, warm_start=True \n",
      "[CV]  fit_intercept=True, loss=perceptron, penalty=elasticnet, shuffle=True, warm_start=True, score=0.544, total=   0.0s\n",
      "[CV] fit_intercept=True, loss=perceptron, penalty=elasticnet, shuffle=True, warm_start=True \n",
      "[CV]  fit_intercept=True, loss=perceptron, penalty=elasticnet, shuffle=True, warm_start=True, score=0.544, total=   0.0s\n",
      "[CV] fit_intercept=True, loss=perceptron, penalty=elasticnet, shuffle=True, warm_start=True \n",
      "[CV]  fit_intercept=True, loss=perceptron, penalty=elasticnet, shuffle=True, warm_start=True, score=0.545, total=   0.0s\n",
      "[CV] fit_intercept=True, loss=perceptron, penalty=elasticnet, shuffle=True, warm_start=True \n",
      "[CV]  fit_intercept=True, loss=perceptron, penalty=elasticnet, shuffle=True, warm_start=True, score=0.545, total=   0.0s\n",
      "[CV] fit_intercept=True, loss=perceptron, penalty=elasticnet, shuffle=True, warm_start=False \n",
      "[CV]  fit_intercept=True, loss=perceptron, penalty=elasticnet, shuffle=True, warm_start=False, score=0.545, total=   0.0s\n",
      "[CV] fit_intercept=True, loss=perceptron, penalty=elasticnet, shuffle=True, warm_start=False \n",
      "[CV]  fit_intercept=True, loss=perceptron, penalty=elasticnet, shuffle=True, warm_start=False, score=0.544, total=   0.0s\n",
      "[CV] fit_intercept=True, loss=perceptron, penalty=elasticnet, shuffle=True, warm_start=False \n",
      "[CV]  fit_intercept=True, loss=perceptron, penalty=elasticnet, shuffle=True, warm_start=False, score=0.544, total=   0.0s\n",
      "[CV] fit_intercept=True, loss=perceptron, penalty=elasticnet, shuffle=True, warm_start=False \n",
      "[CV]  fit_intercept=True, loss=perceptron, penalty=elasticnet, shuffle=True, warm_start=False, score=0.545, total=   0.0s\n",
      "[CV] fit_intercept=True, loss=perceptron, penalty=elasticnet, shuffle=True, warm_start=False \n",
      "[CV]  fit_intercept=True, loss=perceptron, penalty=elasticnet, shuffle=True, warm_start=False, score=0.545, total=   0.0s\n",
      "[CV] fit_intercept=True, loss=perceptron, penalty=elasticnet, shuffle=False, warm_start=True \n",
      "[CV]  fit_intercept=True, loss=perceptron, penalty=elasticnet, shuffle=False, warm_start=True, score=0.545, total=   0.0s\n",
      "[CV] fit_intercept=True, loss=perceptron, penalty=elasticnet, shuffle=False, warm_start=True \n",
      "[CV]  fit_intercept=True, loss=perceptron, penalty=elasticnet, shuffle=False, warm_start=True, score=0.544, total=   0.0s\n",
      "[CV] fit_intercept=True, loss=perceptron, penalty=elasticnet, shuffle=False, warm_start=True \n",
      "[CV]  fit_intercept=True, loss=perceptron, penalty=elasticnet, shuffle=False, warm_start=True, score=0.544, total=   0.0s\n",
      "[CV] fit_intercept=True, loss=perceptron, penalty=elasticnet, shuffle=False, warm_start=True \n",
      "[CV]  fit_intercept=True, loss=perceptron, penalty=elasticnet, shuffle=False, warm_start=True, score=0.545, total=   0.0s\n",
      "[CV] fit_intercept=True, loss=perceptron, penalty=elasticnet, shuffle=False, warm_start=True \n"
     ]
    },
    {
     "name": "stdout",
     "output_type": "stream",
     "text": [
      "[CV]  fit_intercept=True, loss=perceptron, penalty=elasticnet, shuffle=False, warm_start=True, score=0.293, total=   0.0s\n",
      "[CV] fit_intercept=True, loss=perceptron, penalty=elasticnet, shuffle=False, warm_start=False \n",
      "[CV]  fit_intercept=True, loss=perceptron, penalty=elasticnet, shuffle=False, warm_start=False, score=0.545, total=   0.0s\n",
      "[CV] fit_intercept=True, loss=perceptron, penalty=elasticnet, shuffle=False, warm_start=False \n",
      "[CV]  fit_intercept=True, loss=perceptron, penalty=elasticnet, shuffle=False, warm_start=False, score=0.544, total=   0.0s\n",
      "[CV] fit_intercept=True, loss=perceptron, penalty=elasticnet, shuffle=False, warm_start=False \n",
      "[CV]  fit_intercept=True, loss=perceptron, penalty=elasticnet, shuffle=False, warm_start=False, score=0.544, total=   0.0s\n",
      "[CV] fit_intercept=True, loss=perceptron, penalty=elasticnet, shuffle=False, warm_start=False \n",
      "[CV]  fit_intercept=True, loss=perceptron, penalty=elasticnet, shuffle=False, warm_start=False, score=0.545, total=   0.0s\n",
      "[CV] fit_intercept=True, loss=perceptron, penalty=elasticnet, shuffle=False, warm_start=False \n",
      "[CV]  fit_intercept=True, loss=perceptron, penalty=elasticnet, shuffle=False, warm_start=False, score=0.293, total=   0.0s\n",
      "[CV] fit_intercept=False, loss=log, penalty=l2, shuffle=True, warm_start=True \n",
      "[CV]  fit_intercept=False, loss=log, penalty=l2, shuffle=True, warm_start=True, score=0.292, total=   0.0s\n",
      "[CV] fit_intercept=False, loss=log, penalty=l2, shuffle=True, warm_start=True \n",
      "[CV]  fit_intercept=False, loss=log, penalty=l2, shuffle=True, warm_start=True, score=0.293, total=   0.0s\n",
      "[CV] fit_intercept=False, loss=log, penalty=l2, shuffle=True, warm_start=True \n",
      "[CV]  fit_intercept=False, loss=log, penalty=l2, shuffle=True, warm_start=True, score=0.293, total=   0.0s\n",
      "[CV] fit_intercept=False, loss=log, penalty=l2, shuffle=True, warm_start=True \n",
      "[CV]  fit_intercept=False, loss=log, penalty=l2, shuffle=True, warm_start=True, score=0.293, total=   0.0s\n",
      "[CV] fit_intercept=False, loss=log, penalty=l2, shuffle=True, warm_start=True \n",
      "[CV]  fit_intercept=False, loss=log, penalty=l2, shuffle=True, warm_start=True, score=0.293, total=   0.0s\n",
      "[CV] fit_intercept=False, loss=log, penalty=l2, shuffle=True, warm_start=False \n",
      "[CV]  fit_intercept=False, loss=log, penalty=l2, shuffle=True, warm_start=False, score=0.292, total=   0.0s\n",
      "[CV] fit_intercept=False, loss=log, penalty=l2, shuffle=True, warm_start=False \n",
      "[CV]  fit_intercept=False, loss=log, penalty=l2, shuffle=True, warm_start=False, score=0.293, total=   0.0s\n",
      "[CV] fit_intercept=False, loss=log, penalty=l2, shuffle=True, warm_start=False \n",
      "[CV]  fit_intercept=False, loss=log, penalty=l2, shuffle=True, warm_start=False, score=0.293, total=   0.0s\n",
      "[CV] fit_intercept=False, loss=log, penalty=l2, shuffle=True, warm_start=False \n",
      "[CV]  fit_intercept=False, loss=log, penalty=l2, shuffle=True, warm_start=False, score=0.293, total=   0.0s\n",
      "[CV] fit_intercept=False, loss=log, penalty=l2, shuffle=True, warm_start=False \n",
      "[CV]  fit_intercept=False, loss=log, penalty=l2, shuffle=True, warm_start=False, score=0.293, total=   0.0s\n",
      "[CV] fit_intercept=False, loss=log, penalty=l2, shuffle=False, warm_start=True \n",
      "[CV]  fit_intercept=False, loss=log, penalty=l2, shuffle=False, warm_start=True, score=0.292, total=   0.0s\n",
      "[CV] fit_intercept=False, loss=log, penalty=l2, shuffle=False, warm_start=True \n",
      "[CV]  fit_intercept=False, loss=log, penalty=l2, shuffle=False, warm_start=True, score=0.293, total=   0.0s\n",
      "[CV] fit_intercept=False, loss=log, penalty=l2, shuffle=False, warm_start=True \n",
      "[CV]  fit_intercept=False, loss=log, penalty=l2, shuffle=False, warm_start=True, score=0.293, total=   0.0s\n",
      "[CV] fit_intercept=False, loss=log, penalty=l2, shuffle=False, warm_start=True \n",
      "[CV]  fit_intercept=False, loss=log, penalty=l2, shuffle=False, warm_start=True, score=0.293, total=   0.0s\n",
      "[CV] fit_intercept=False, loss=log, penalty=l2, shuffle=False, warm_start=True \n",
      "[CV]  fit_intercept=False, loss=log, penalty=l2, shuffle=False, warm_start=True, score=0.293, total=   0.0s\n",
      "[CV] fit_intercept=False, loss=log, penalty=l2, shuffle=False, warm_start=False \n",
      "[CV]  fit_intercept=False, loss=log, penalty=l2, shuffle=False, warm_start=False, score=0.292, total=   0.0s\n",
      "[CV] fit_intercept=False, loss=log, penalty=l2, shuffle=False, warm_start=False \n",
      "[CV]  fit_intercept=False, loss=log, penalty=l2, shuffle=False, warm_start=False, score=0.293, total=   0.0s\n",
      "[CV] fit_intercept=False, loss=log, penalty=l2, shuffle=False, warm_start=False \n",
      "[CV]  fit_intercept=False, loss=log, penalty=l2, shuffle=False, warm_start=False, score=0.293, total=   0.0s\n",
      "[CV] fit_intercept=False, loss=log, penalty=l2, shuffle=False, warm_start=False \n",
      "[CV]  fit_intercept=False, loss=log, penalty=l2, shuffle=False, warm_start=False, score=0.293, total=   0.0s\n",
      "[CV] fit_intercept=False, loss=log, penalty=l2, shuffle=False, warm_start=False \n",
      "[CV]  fit_intercept=False, loss=log, penalty=l2, shuffle=False, warm_start=False, score=0.293, total=   0.0s\n",
      "[CV] fit_intercept=False, loss=log, penalty=l1, shuffle=True, warm_start=True \n",
      "[CV]  fit_intercept=False, loss=log, penalty=l1, shuffle=True, warm_start=True, score=0.292, total=   0.0s\n",
      "[CV] fit_intercept=False, loss=log, penalty=l1, shuffle=True, warm_start=True \n",
      "[CV]  fit_intercept=False, loss=log, penalty=l1, shuffle=True, warm_start=True, score=0.293, total=   0.0s\n",
      "[CV] fit_intercept=False, loss=log, penalty=l1, shuffle=True, warm_start=True \n",
      "[CV]  fit_intercept=False, loss=log, penalty=l1, shuffle=True, warm_start=True, score=0.293, total=   0.0s\n",
      "[CV] fit_intercept=False, loss=log, penalty=l1, shuffle=True, warm_start=True \n",
      "[CV]  fit_intercept=False, loss=log, penalty=l1, shuffle=True, warm_start=True, score=0.293, total=   0.0s\n",
      "[CV] fit_intercept=False, loss=log, penalty=l1, shuffle=True, warm_start=True \n",
      "[CV]  fit_intercept=False, loss=log, penalty=l1, shuffle=True, warm_start=True, score=0.293, total=   0.0s\n",
      "[CV] fit_intercept=False, loss=log, penalty=l1, shuffle=True, warm_start=False \n",
      "[CV]  fit_intercept=False, loss=log, penalty=l1, shuffle=True, warm_start=False, score=0.292, total=   0.0s\n",
      "[CV] fit_intercept=False, loss=log, penalty=l1, shuffle=True, warm_start=False \n",
      "[CV]  fit_intercept=False, loss=log, penalty=l1, shuffle=True, warm_start=False, score=0.293, total=   0.0s\n",
      "[CV] fit_intercept=False, loss=log, penalty=l1, shuffle=True, warm_start=False \n",
      "[CV]  fit_intercept=False, loss=log, penalty=l1, shuffle=True, warm_start=False, score=0.293, total=   0.0s\n",
      "[CV] fit_intercept=False, loss=log, penalty=l1, shuffle=True, warm_start=False \n",
      "[CV]  fit_intercept=False, loss=log, penalty=l1, shuffle=True, warm_start=False, score=0.293, total=   0.0s\n",
      "[CV] fit_intercept=False, loss=log, penalty=l1, shuffle=True, warm_start=False \n",
      "[CV]  fit_intercept=False, loss=log, penalty=l1, shuffle=True, warm_start=False, score=0.293, total=   0.0s\n",
      "[CV] fit_intercept=False, loss=log, penalty=l1, shuffle=False, warm_start=True \n",
      "[CV]  fit_intercept=False, loss=log, penalty=l1, shuffle=False, warm_start=True, score=0.292, total=   0.0s\n",
      "[CV] fit_intercept=False, loss=log, penalty=l1, shuffle=False, warm_start=True \n",
      "[CV]  fit_intercept=False, loss=log, penalty=l1, shuffle=False, warm_start=True, score=0.293, total=   0.0s\n",
      "[CV] fit_intercept=False, loss=log, penalty=l1, shuffle=False, warm_start=True \n",
      "[CV]  fit_intercept=False, loss=log, penalty=l1, shuffle=False, warm_start=True, score=0.293, total=   0.0s\n",
      "[CV] fit_intercept=False, loss=log, penalty=l1, shuffle=False, warm_start=True \n",
      "[CV]  fit_intercept=False, loss=log, penalty=l1, shuffle=False, warm_start=True, score=0.293, total=   0.0s\n",
      "[CV] fit_intercept=False, loss=log, penalty=l1, shuffle=False, warm_start=True \n",
      "[CV]  fit_intercept=False, loss=log, penalty=l1, shuffle=False, warm_start=True, score=0.293, total=   0.0s\n",
      "[CV] fit_intercept=False, loss=log, penalty=l1, shuffle=False, warm_start=False \n",
      "[CV]  fit_intercept=False, loss=log, penalty=l1, shuffle=False, warm_start=False, score=0.292, total=   0.0s\n",
      "[CV] fit_intercept=False, loss=log, penalty=l1, shuffle=False, warm_start=False \n",
      "[CV]  fit_intercept=False, loss=log, penalty=l1, shuffle=False, warm_start=False, score=0.293, total=   0.0s\n",
      "[CV] fit_intercept=False, loss=log, penalty=l1, shuffle=False, warm_start=False \n",
      "[CV]  fit_intercept=False, loss=log, penalty=l1, shuffle=False, warm_start=False, score=0.293, total=   0.0s\n",
      "[CV] fit_intercept=False, loss=log, penalty=l1, shuffle=False, warm_start=False \n",
      "[CV]  fit_intercept=False, loss=log, penalty=l1, shuffle=False, warm_start=False, score=0.293, total=   0.0s\n",
      "[CV] fit_intercept=False, loss=log, penalty=l1, shuffle=False, warm_start=False \n",
      "[CV]  fit_intercept=False, loss=log, penalty=l1, shuffle=False, warm_start=False, score=0.293, total=   0.0s\n",
      "[CV] fit_intercept=False, loss=log, penalty=elasticnet, shuffle=True, warm_start=True \n",
      "[CV]  fit_intercept=False, loss=log, penalty=elasticnet, shuffle=True, warm_start=True, score=0.292, total=   0.0s\n",
      "[CV] fit_intercept=False, loss=log, penalty=elasticnet, shuffle=True, warm_start=True \n",
      "[CV]  fit_intercept=False, loss=log, penalty=elasticnet, shuffle=True, warm_start=True, score=0.293, total=   0.0s\n",
      "[CV] fit_intercept=False, loss=log, penalty=elasticnet, shuffle=True, warm_start=True \n",
      "[CV]  fit_intercept=False, loss=log, penalty=elasticnet, shuffle=True, warm_start=True, score=0.293, total=   0.0s\n",
      "[CV] fit_intercept=False, loss=log, penalty=elasticnet, shuffle=True, warm_start=True \n",
      "[CV]  fit_intercept=False, loss=log, penalty=elasticnet, shuffle=True, warm_start=True, score=0.293, total=   0.0s\n",
      "[CV] fit_intercept=False, loss=log, penalty=elasticnet, shuffle=True, warm_start=True \n"
     ]
    },
    {
     "name": "stdout",
     "output_type": "stream",
     "text": [
      "[CV]  fit_intercept=False, loss=log, penalty=elasticnet, shuffle=True, warm_start=True, score=0.293, total=   0.0s\n",
      "[CV] fit_intercept=False, loss=log, penalty=elasticnet, shuffle=True, warm_start=False \n",
      "[CV]  fit_intercept=False, loss=log, penalty=elasticnet, shuffle=True, warm_start=False, score=0.292, total=   0.0s\n",
      "[CV] fit_intercept=False, loss=log, penalty=elasticnet, shuffle=True, warm_start=False \n",
      "[CV]  fit_intercept=False, loss=log, penalty=elasticnet, shuffle=True, warm_start=False, score=0.293, total=   0.0s\n",
      "[CV] fit_intercept=False, loss=log, penalty=elasticnet, shuffle=True, warm_start=False \n",
      "[CV]  fit_intercept=False, loss=log, penalty=elasticnet, shuffle=True, warm_start=False, score=0.293, total=   0.0s\n",
      "[CV] fit_intercept=False, loss=log, penalty=elasticnet, shuffle=True, warm_start=False \n",
      "[CV]  fit_intercept=False, loss=log, penalty=elasticnet, shuffle=True, warm_start=False, score=0.293, total=   0.0s\n",
      "[CV] fit_intercept=False, loss=log, penalty=elasticnet, shuffle=True, warm_start=False \n",
      "[CV]  fit_intercept=False, loss=log, penalty=elasticnet, shuffle=True, warm_start=False, score=0.293, total=   0.0s\n",
      "[CV] fit_intercept=False, loss=log, penalty=elasticnet, shuffle=False, warm_start=True \n",
      "[CV]  fit_intercept=False, loss=log, penalty=elasticnet, shuffle=False, warm_start=True, score=0.292, total=   0.0s\n",
      "[CV] fit_intercept=False, loss=log, penalty=elasticnet, shuffle=False, warm_start=True \n",
      "[CV]  fit_intercept=False, loss=log, penalty=elasticnet, shuffle=False, warm_start=True, score=0.293, total=   0.0s\n",
      "[CV] fit_intercept=False, loss=log, penalty=elasticnet, shuffle=False, warm_start=True \n",
      "[CV]  fit_intercept=False, loss=log, penalty=elasticnet, shuffle=False, warm_start=True, score=0.293, total=   0.0s\n",
      "[CV] fit_intercept=False, loss=log, penalty=elasticnet, shuffle=False, warm_start=True \n",
      "[CV]  fit_intercept=False, loss=log, penalty=elasticnet, shuffle=False, warm_start=True, score=0.293, total=   0.0s\n",
      "[CV] fit_intercept=False, loss=log, penalty=elasticnet, shuffle=False, warm_start=True \n",
      "[CV]  fit_intercept=False, loss=log, penalty=elasticnet, shuffle=False, warm_start=True, score=0.293, total=   0.0s\n",
      "[CV] fit_intercept=False, loss=log, penalty=elasticnet, shuffle=False, warm_start=False \n",
      "[CV]  fit_intercept=False, loss=log, penalty=elasticnet, shuffle=False, warm_start=False, score=0.292, total=   0.0s\n",
      "[CV] fit_intercept=False, loss=log, penalty=elasticnet, shuffle=False, warm_start=False \n",
      "[CV]  fit_intercept=False, loss=log, penalty=elasticnet, shuffle=False, warm_start=False, score=0.293, total=   0.0s\n",
      "[CV] fit_intercept=False, loss=log, penalty=elasticnet, shuffle=False, warm_start=False \n",
      "[CV]  fit_intercept=False, loss=log, penalty=elasticnet, shuffle=False, warm_start=False, score=0.293, total=   0.0s\n",
      "[CV] fit_intercept=False, loss=log, penalty=elasticnet, shuffle=False, warm_start=False \n",
      "[CV]  fit_intercept=False, loss=log, penalty=elasticnet, shuffle=False, warm_start=False, score=0.293, total=   0.0s\n",
      "[CV] fit_intercept=False, loss=log, penalty=elasticnet, shuffle=False, warm_start=False \n",
      "[CV]  fit_intercept=False, loss=log, penalty=elasticnet, shuffle=False, warm_start=False, score=0.293, total=   0.0s\n",
      "[CV] fit_intercept=False, loss=hinge, penalty=l2, shuffle=True, warm_start=True \n",
      "[CV]  fit_intercept=False, loss=hinge, penalty=l2, shuffle=True, warm_start=True, score=0.292, total=   0.0s\n",
      "[CV] fit_intercept=False, loss=hinge, penalty=l2, shuffle=True, warm_start=True \n",
      "[CV]  fit_intercept=False, loss=hinge, penalty=l2, shuffle=True, warm_start=True, score=0.293, total=   0.0s\n",
      "[CV] fit_intercept=False, loss=hinge, penalty=l2, shuffle=True, warm_start=True \n",
      "[CV]  fit_intercept=False, loss=hinge, penalty=l2, shuffle=True, warm_start=True, score=0.293, total=   0.0s\n",
      "[CV] fit_intercept=False, loss=hinge, penalty=l2, shuffle=True, warm_start=True \n",
      "[CV]  fit_intercept=False, loss=hinge, penalty=l2, shuffle=True, warm_start=True, score=0.293, total=   0.0s\n",
      "[CV] fit_intercept=False, loss=hinge, penalty=l2, shuffle=True, warm_start=True \n",
      "[CV]  fit_intercept=False, loss=hinge, penalty=l2, shuffle=True, warm_start=True, score=0.293, total=   0.0s\n",
      "[CV] fit_intercept=False, loss=hinge, penalty=l2, shuffle=True, warm_start=False \n",
      "[CV]  fit_intercept=False, loss=hinge, penalty=l2, shuffle=True, warm_start=False, score=0.292, total=   0.0s\n",
      "[CV] fit_intercept=False, loss=hinge, penalty=l2, shuffle=True, warm_start=False \n",
      "[CV]  fit_intercept=False, loss=hinge, penalty=l2, shuffle=True, warm_start=False, score=0.293, total=   0.0s\n",
      "[CV] fit_intercept=False, loss=hinge, penalty=l2, shuffle=True, warm_start=False \n",
      "[CV]  fit_intercept=False, loss=hinge, penalty=l2, shuffle=True, warm_start=False, score=0.293, total=   0.0s\n",
      "[CV] fit_intercept=False, loss=hinge, penalty=l2, shuffle=True, warm_start=False \n",
      "[CV]  fit_intercept=False, loss=hinge, penalty=l2, shuffle=True, warm_start=False, score=0.293, total=   0.0s\n",
      "[CV] fit_intercept=False, loss=hinge, penalty=l2, shuffle=True, warm_start=False \n",
      "[CV]  fit_intercept=False, loss=hinge, penalty=l2, shuffle=True, warm_start=False, score=0.293, total=   0.0s\n",
      "[CV] fit_intercept=False, loss=hinge, penalty=l2, shuffle=False, warm_start=True \n",
      "[CV]  fit_intercept=False, loss=hinge, penalty=l2, shuffle=False, warm_start=True, score=0.292, total=   0.0s\n",
      "[CV] fit_intercept=False, loss=hinge, penalty=l2, shuffle=False, warm_start=True \n",
      "[CV]  fit_intercept=False, loss=hinge, penalty=l2, shuffle=False, warm_start=True, score=0.293, total=   0.0s\n",
      "[CV] fit_intercept=False, loss=hinge, penalty=l2, shuffle=False, warm_start=True \n",
      "[CV]  fit_intercept=False, loss=hinge, penalty=l2, shuffle=False, warm_start=True, score=0.293, total=   0.0s\n",
      "[CV] fit_intercept=False, loss=hinge, penalty=l2, shuffle=False, warm_start=True \n",
      "[CV]  fit_intercept=False, loss=hinge, penalty=l2, shuffle=False, warm_start=True, score=0.293, total=   0.0s\n",
      "[CV] fit_intercept=False, loss=hinge, penalty=l2, shuffle=False, warm_start=True \n",
      "[CV]  fit_intercept=False, loss=hinge, penalty=l2, shuffle=False, warm_start=True, score=0.293, total=   0.0s\n",
      "[CV] fit_intercept=False, loss=hinge, penalty=l2, shuffle=False, warm_start=False \n",
      "[CV]  fit_intercept=False, loss=hinge, penalty=l2, shuffle=False, warm_start=False, score=0.292, total=   0.0s\n",
      "[CV] fit_intercept=False, loss=hinge, penalty=l2, shuffle=False, warm_start=False \n",
      "[CV]  fit_intercept=False, loss=hinge, penalty=l2, shuffle=False, warm_start=False, score=0.293, total=   0.0s\n",
      "[CV] fit_intercept=False, loss=hinge, penalty=l2, shuffle=False, warm_start=False \n",
      "[CV]  fit_intercept=False, loss=hinge, penalty=l2, shuffle=False, warm_start=False, score=0.293, total=   0.0s\n",
      "[CV] fit_intercept=False, loss=hinge, penalty=l2, shuffle=False, warm_start=False \n",
      "[CV]  fit_intercept=False, loss=hinge, penalty=l2, shuffle=False, warm_start=False, score=0.293, total=   0.0s\n",
      "[CV] fit_intercept=False, loss=hinge, penalty=l2, shuffle=False, warm_start=False \n",
      "[CV]  fit_intercept=False, loss=hinge, penalty=l2, shuffle=False, warm_start=False, score=0.293, total=   0.0s\n",
      "[CV] fit_intercept=False, loss=hinge, penalty=l1, shuffle=True, warm_start=True \n",
      "[CV]  fit_intercept=False, loss=hinge, penalty=l1, shuffle=True, warm_start=True, score=0.292, total=   0.0s\n",
      "[CV] fit_intercept=False, loss=hinge, penalty=l1, shuffle=True, warm_start=True \n",
      "[CV]  fit_intercept=False, loss=hinge, penalty=l1, shuffle=True, warm_start=True, score=0.293, total=   0.0s\n",
      "[CV] fit_intercept=False, loss=hinge, penalty=l1, shuffle=True, warm_start=True \n",
      "[CV]  fit_intercept=False, loss=hinge, penalty=l1, shuffle=True, warm_start=True, score=0.293, total=   0.0s\n",
      "[CV] fit_intercept=False, loss=hinge, penalty=l1, shuffle=True, warm_start=True \n",
      "[CV]  fit_intercept=False, loss=hinge, penalty=l1, shuffle=True, warm_start=True, score=0.293, total=   0.0s\n",
      "[CV] fit_intercept=False, loss=hinge, penalty=l1, shuffle=True, warm_start=True \n",
      "[CV]  fit_intercept=False, loss=hinge, penalty=l1, shuffle=True, warm_start=True, score=0.293, total=   0.0s\n",
      "[CV] fit_intercept=False, loss=hinge, penalty=l1, shuffle=True, warm_start=False \n",
      "[CV]  fit_intercept=False, loss=hinge, penalty=l1, shuffle=True, warm_start=False, score=0.292, total=   0.0s\n",
      "[CV] fit_intercept=False, loss=hinge, penalty=l1, shuffle=True, warm_start=False \n",
      "[CV]  fit_intercept=False, loss=hinge, penalty=l1, shuffle=True, warm_start=False, score=0.293, total=   0.0s\n",
      "[CV] fit_intercept=False, loss=hinge, penalty=l1, shuffle=True, warm_start=False \n",
      "[CV]  fit_intercept=False, loss=hinge, penalty=l1, shuffle=True, warm_start=False, score=0.293, total=   0.0s\n",
      "[CV] fit_intercept=False, loss=hinge, penalty=l1, shuffle=True, warm_start=False \n",
      "[CV]  fit_intercept=False, loss=hinge, penalty=l1, shuffle=True, warm_start=False, score=0.293, total=   0.0s\n",
      "[CV] fit_intercept=False, loss=hinge, penalty=l1, shuffle=True, warm_start=False \n",
      "[CV]  fit_intercept=False, loss=hinge, penalty=l1, shuffle=True, warm_start=False, score=0.293, total=   0.0s\n",
      "[CV] fit_intercept=False, loss=hinge, penalty=l1, shuffle=False, warm_start=True \n",
      "[CV]  fit_intercept=False, loss=hinge, penalty=l1, shuffle=False, warm_start=True, score=0.292, total=   0.0s\n",
      "[CV] fit_intercept=False, loss=hinge, penalty=l1, shuffle=False, warm_start=True \n",
      "[CV]  fit_intercept=False, loss=hinge, penalty=l1, shuffle=False, warm_start=True, score=0.293, total=   0.0s\n",
      "[CV] fit_intercept=False, loss=hinge, penalty=l1, shuffle=False, warm_start=True \n",
      "[CV]  fit_intercept=False, loss=hinge, penalty=l1, shuffle=False, warm_start=True, score=0.293, total=   0.0s\n",
      "[CV] fit_intercept=False, loss=hinge, penalty=l1, shuffle=False, warm_start=True \n",
      "[CV]  fit_intercept=False, loss=hinge, penalty=l1, shuffle=False, warm_start=True, score=0.293, total=   0.0s\n",
      "[CV] fit_intercept=False, loss=hinge, penalty=l1, shuffle=False, warm_start=True \n",
      "[CV]  fit_intercept=False, loss=hinge, penalty=l1, shuffle=False, warm_start=True, score=0.293, total=   0.0s\n",
      "[CV] fit_intercept=False, loss=hinge, penalty=l1, shuffle=False, warm_start=False \n",
      "[CV]  fit_intercept=False, loss=hinge, penalty=l1, shuffle=False, warm_start=False, score=0.292, total=   0.0s\n",
      "[CV] fit_intercept=False, loss=hinge, penalty=l1, shuffle=False, warm_start=False \n",
      "[CV]  fit_intercept=False, loss=hinge, penalty=l1, shuffle=False, warm_start=False, score=0.293, total=   0.0s\n",
      "[CV] fit_intercept=False, loss=hinge, penalty=l1, shuffle=False, warm_start=False \n",
      "[CV]  fit_intercept=False, loss=hinge, penalty=l1, shuffle=False, warm_start=False, score=0.293, total=   0.0s\n",
      "[CV] fit_intercept=False, loss=hinge, penalty=l1, shuffle=False, warm_start=False \n",
      "[CV]  fit_intercept=False, loss=hinge, penalty=l1, shuffle=False, warm_start=False, score=0.293, total=   0.0s\n",
      "[CV] fit_intercept=False, loss=hinge, penalty=l1, shuffle=False, warm_start=False \n"
     ]
    },
    {
     "name": "stdout",
     "output_type": "stream",
     "text": [
      "[CV]  fit_intercept=False, loss=hinge, penalty=l1, shuffle=False, warm_start=False, score=0.293, total=   0.0s\n",
      "[CV] fit_intercept=False, loss=hinge, penalty=elasticnet, shuffle=True, warm_start=True \n",
      "[CV]  fit_intercept=False, loss=hinge, penalty=elasticnet, shuffle=True, warm_start=True, score=0.292, total=   0.0s\n",
      "[CV] fit_intercept=False, loss=hinge, penalty=elasticnet, shuffle=True, warm_start=True \n",
      "[CV]  fit_intercept=False, loss=hinge, penalty=elasticnet, shuffle=True, warm_start=True, score=0.293, total=   0.0s\n",
      "[CV] fit_intercept=False, loss=hinge, penalty=elasticnet, shuffle=True, warm_start=True \n",
      "[CV]  fit_intercept=False, loss=hinge, penalty=elasticnet, shuffle=True, warm_start=True, score=0.293, total=   0.0s\n",
      "[CV] fit_intercept=False, loss=hinge, penalty=elasticnet, shuffle=True, warm_start=True \n",
      "[CV]  fit_intercept=False, loss=hinge, penalty=elasticnet, shuffle=True, warm_start=True, score=0.293, total=   0.0s\n",
      "[CV] fit_intercept=False, loss=hinge, penalty=elasticnet, shuffle=True, warm_start=True \n",
      "[CV]  fit_intercept=False, loss=hinge, penalty=elasticnet, shuffle=True, warm_start=True, score=0.293, total=   0.0s\n",
      "[CV] fit_intercept=False, loss=hinge, penalty=elasticnet, shuffle=True, warm_start=False \n",
      "[CV]  fit_intercept=False, loss=hinge, penalty=elasticnet, shuffle=True, warm_start=False, score=0.292, total=   0.0s\n",
      "[CV] fit_intercept=False, loss=hinge, penalty=elasticnet, shuffle=True, warm_start=False \n",
      "[CV]  fit_intercept=False, loss=hinge, penalty=elasticnet, shuffle=True, warm_start=False, score=0.293, total=   0.0s\n",
      "[CV] fit_intercept=False, loss=hinge, penalty=elasticnet, shuffle=True, warm_start=False \n",
      "[CV]  fit_intercept=False, loss=hinge, penalty=elasticnet, shuffle=True, warm_start=False, score=0.293, total=   0.0s\n",
      "[CV] fit_intercept=False, loss=hinge, penalty=elasticnet, shuffle=True, warm_start=False \n",
      "[CV]  fit_intercept=False, loss=hinge, penalty=elasticnet, shuffle=True, warm_start=False, score=0.293, total=   0.0s\n",
      "[CV] fit_intercept=False, loss=hinge, penalty=elasticnet, shuffle=True, warm_start=False \n",
      "[CV]  fit_intercept=False, loss=hinge, penalty=elasticnet, shuffle=True, warm_start=False, score=0.293, total=   0.0s\n",
      "[CV] fit_intercept=False, loss=hinge, penalty=elasticnet, shuffle=False, warm_start=True \n",
      "[CV]  fit_intercept=False, loss=hinge, penalty=elasticnet, shuffle=False, warm_start=True, score=0.292, total=   0.0s\n",
      "[CV] fit_intercept=False, loss=hinge, penalty=elasticnet, shuffle=False, warm_start=True \n",
      "[CV]  fit_intercept=False, loss=hinge, penalty=elasticnet, shuffle=False, warm_start=True, score=0.293, total=   0.0s\n",
      "[CV] fit_intercept=False, loss=hinge, penalty=elasticnet, shuffle=False, warm_start=True \n",
      "[CV]  fit_intercept=False, loss=hinge, penalty=elasticnet, shuffle=False, warm_start=True, score=0.293, total=   0.0s\n",
      "[CV] fit_intercept=False, loss=hinge, penalty=elasticnet, shuffle=False, warm_start=True \n",
      "[CV]  fit_intercept=False, loss=hinge, penalty=elasticnet, shuffle=False, warm_start=True, score=0.293, total=   0.0s\n",
      "[CV] fit_intercept=False, loss=hinge, penalty=elasticnet, shuffle=False, warm_start=True \n",
      "[CV]  fit_intercept=False, loss=hinge, penalty=elasticnet, shuffle=False, warm_start=True, score=0.293, total=   0.0s\n",
      "[CV] fit_intercept=False, loss=hinge, penalty=elasticnet, shuffle=False, warm_start=False \n",
      "[CV]  fit_intercept=False, loss=hinge, penalty=elasticnet, shuffle=False, warm_start=False, score=0.292, total=   0.0s\n",
      "[CV] fit_intercept=False, loss=hinge, penalty=elasticnet, shuffle=False, warm_start=False \n",
      "[CV]  fit_intercept=False, loss=hinge, penalty=elasticnet, shuffle=False, warm_start=False, score=0.293, total=   0.0s\n",
      "[CV] fit_intercept=False, loss=hinge, penalty=elasticnet, shuffle=False, warm_start=False \n",
      "[CV]  fit_intercept=False, loss=hinge, penalty=elasticnet, shuffle=False, warm_start=False, score=0.293, total=   0.0s\n",
      "[CV] fit_intercept=False, loss=hinge, penalty=elasticnet, shuffle=False, warm_start=False \n",
      "[CV]  fit_intercept=False, loss=hinge, penalty=elasticnet, shuffle=False, warm_start=False, score=0.293, total=   0.0s\n",
      "[CV] fit_intercept=False, loss=hinge, penalty=elasticnet, shuffle=False, warm_start=False \n",
      "[CV]  fit_intercept=False, loss=hinge, penalty=elasticnet, shuffle=False, warm_start=False, score=0.293, total=   0.0s\n",
      "[CV] fit_intercept=False, loss=perceptron, penalty=l2, shuffle=True, warm_start=True \n",
      "[CV]  fit_intercept=False, loss=perceptron, penalty=l2, shuffle=True, warm_start=True, score=0.292, total=   0.0s\n",
      "[CV] fit_intercept=False, loss=perceptron, penalty=l2, shuffle=True, warm_start=True \n",
      "[CV]  fit_intercept=False, loss=perceptron, penalty=l2, shuffle=True, warm_start=True, score=0.293, total=   0.0s\n",
      "[CV] fit_intercept=False, loss=perceptron, penalty=l2, shuffle=True, warm_start=True \n",
      "[CV]  fit_intercept=False, loss=perceptron, penalty=l2, shuffle=True, warm_start=True, score=0.293, total=   0.0s\n",
      "[CV] fit_intercept=False, loss=perceptron, penalty=l2, shuffle=True, warm_start=True \n",
      "[CV]  fit_intercept=False, loss=perceptron, penalty=l2, shuffle=True, warm_start=True, score=0.293, total=   0.0s\n",
      "[CV] fit_intercept=False, loss=perceptron, penalty=l2, shuffle=True, warm_start=True \n",
      "[CV]  fit_intercept=False, loss=perceptron, penalty=l2, shuffle=True, warm_start=True, score=0.293, total=   0.0s\n",
      "[CV] fit_intercept=False, loss=perceptron, penalty=l2, shuffle=True, warm_start=False \n",
      "[CV]  fit_intercept=False, loss=perceptron, penalty=l2, shuffle=True, warm_start=False, score=0.292, total=   0.0s\n",
      "[CV] fit_intercept=False, loss=perceptron, penalty=l2, shuffle=True, warm_start=False \n",
      "[CV]  fit_intercept=False, loss=perceptron, penalty=l2, shuffle=True, warm_start=False, score=0.293, total=   0.0s\n",
      "[CV] fit_intercept=False, loss=perceptron, penalty=l2, shuffle=True, warm_start=False \n",
      "[CV]  fit_intercept=False, loss=perceptron, penalty=l2, shuffle=True, warm_start=False, score=0.293, total=   0.0s\n",
      "[CV] fit_intercept=False, loss=perceptron, penalty=l2, shuffle=True, warm_start=False \n",
      "[CV]  fit_intercept=False, loss=perceptron, penalty=l2, shuffle=True, warm_start=False, score=0.293, total=   0.0s\n",
      "[CV] fit_intercept=False, loss=perceptron, penalty=l2, shuffle=True, warm_start=False \n",
      "[CV]  fit_intercept=False, loss=perceptron, penalty=l2, shuffle=True, warm_start=False, score=0.293, total=   0.0s\n",
      "[CV] fit_intercept=False, loss=perceptron, penalty=l2, shuffle=False, warm_start=True \n",
      "[CV]  fit_intercept=False, loss=perceptron, penalty=l2, shuffle=False, warm_start=True, score=0.292, total=   0.0s\n",
      "[CV] fit_intercept=False, loss=perceptron, penalty=l2, shuffle=False, warm_start=True \n",
      "[CV]  fit_intercept=False, loss=perceptron, penalty=l2, shuffle=False, warm_start=True, score=0.293, total=   0.0s\n",
      "[CV] fit_intercept=False, loss=perceptron, penalty=l2, shuffle=False, warm_start=True \n",
      "[CV]  fit_intercept=False, loss=perceptron, penalty=l2, shuffle=False, warm_start=True, score=0.293, total=   0.0s\n",
      "[CV] fit_intercept=False, loss=perceptron, penalty=l2, shuffle=False, warm_start=True \n",
      "[CV]  fit_intercept=False, loss=perceptron, penalty=l2, shuffle=False, warm_start=True, score=0.293, total=   0.0s\n",
      "[CV] fit_intercept=False, loss=perceptron, penalty=l2, shuffle=False, warm_start=True \n",
      "[CV]  fit_intercept=False, loss=perceptron, penalty=l2, shuffle=False, warm_start=True, score=0.293, total=   0.0s\n",
      "[CV] fit_intercept=False, loss=perceptron, penalty=l2, shuffle=False, warm_start=False \n",
      "[CV]  fit_intercept=False, loss=perceptron, penalty=l2, shuffle=False, warm_start=False, score=0.292, total=   0.0s\n",
      "[CV] fit_intercept=False, loss=perceptron, penalty=l2, shuffle=False, warm_start=False \n",
      "[CV]  fit_intercept=False, loss=perceptron, penalty=l2, shuffle=False, warm_start=False, score=0.293, total=   0.0s\n",
      "[CV] fit_intercept=False, loss=perceptron, penalty=l2, shuffle=False, warm_start=False \n",
      "[CV]  fit_intercept=False, loss=perceptron, penalty=l2, shuffle=False, warm_start=False, score=0.293, total=   0.0s\n",
      "[CV] fit_intercept=False, loss=perceptron, penalty=l2, shuffle=False, warm_start=False \n",
      "[CV]  fit_intercept=False, loss=perceptron, penalty=l2, shuffle=False, warm_start=False, score=0.293, total=   0.0s\n",
      "[CV] fit_intercept=False, loss=perceptron, penalty=l2, shuffle=False, warm_start=False \n",
      "[CV]  fit_intercept=False, loss=perceptron, penalty=l2, shuffle=False, warm_start=False, score=0.293, total=   0.0s\n",
      "[CV] fit_intercept=False, loss=perceptron, penalty=l1, shuffle=True, warm_start=True \n",
      "[CV]  fit_intercept=False, loss=perceptron, penalty=l1, shuffle=True, warm_start=True, score=0.292, total=   0.0s\n",
      "[CV] fit_intercept=False, loss=perceptron, penalty=l1, shuffle=True, warm_start=True \n",
      "[CV]  fit_intercept=False, loss=perceptron, penalty=l1, shuffle=True, warm_start=True, score=0.293, total=   0.0s\n",
      "[CV] fit_intercept=False, loss=perceptron, penalty=l1, shuffle=True, warm_start=True \n",
      "[CV]  fit_intercept=False, loss=perceptron, penalty=l1, shuffle=True, warm_start=True, score=0.293, total=   0.0s\n",
      "[CV] fit_intercept=False, loss=perceptron, penalty=l1, shuffle=True, warm_start=True \n",
      "[CV]  fit_intercept=False, loss=perceptron, penalty=l1, shuffle=True, warm_start=True, score=0.293, total=   0.0s\n",
      "[CV] fit_intercept=False, loss=perceptron, penalty=l1, shuffle=True, warm_start=True \n",
      "[CV]  fit_intercept=False, loss=perceptron, penalty=l1, shuffle=True, warm_start=True, score=0.293, total=   0.0s\n",
      "[CV] fit_intercept=False, loss=perceptron, penalty=l1, shuffle=True, warm_start=False \n",
      "[CV]  fit_intercept=False, loss=perceptron, penalty=l1, shuffle=True, warm_start=False, score=0.292, total=   0.0s\n",
      "[CV] fit_intercept=False, loss=perceptron, penalty=l1, shuffle=True, warm_start=False \n",
      "[CV]  fit_intercept=False, loss=perceptron, penalty=l1, shuffle=True, warm_start=False, score=0.293, total=   0.0s\n",
      "[CV] fit_intercept=False, loss=perceptron, penalty=l1, shuffle=True, warm_start=False \n",
      "[CV]  fit_intercept=False, loss=perceptron, penalty=l1, shuffle=True, warm_start=False, score=0.293, total=   0.0s\n",
      "[CV] fit_intercept=False, loss=perceptron, penalty=l1, shuffle=True, warm_start=False \n",
      "[CV]  fit_intercept=False, loss=perceptron, penalty=l1, shuffle=True, warm_start=False, score=0.293, total=   0.0s\n",
      "[CV] fit_intercept=False, loss=perceptron, penalty=l1, shuffle=True, warm_start=False \n",
      "[CV]  fit_intercept=False, loss=perceptron, penalty=l1, shuffle=True, warm_start=False, score=0.293, total=   0.0s\n",
      "[CV] fit_intercept=False, loss=perceptron, penalty=l1, shuffle=False, warm_start=True \n"
     ]
    },
    {
     "name": "stdout",
     "output_type": "stream",
     "text": [
      "[CV]  fit_intercept=False, loss=perceptron, penalty=l1, shuffle=False, warm_start=True, score=0.292, total=   0.0s\n",
      "[CV] fit_intercept=False, loss=perceptron, penalty=l1, shuffle=False, warm_start=True \n",
      "[CV]  fit_intercept=False, loss=perceptron, penalty=l1, shuffle=False, warm_start=True, score=0.293, total=   0.0s\n",
      "[CV] fit_intercept=False, loss=perceptron, penalty=l1, shuffle=False, warm_start=True \n",
      "[CV]  fit_intercept=False, loss=perceptron, penalty=l1, shuffle=False, warm_start=True, score=0.293, total=   0.0s\n",
      "[CV] fit_intercept=False, loss=perceptron, penalty=l1, shuffle=False, warm_start=True \n",
      "[CV]  fit_intercept=False, loss=perceptron, penalty=l1, shuffle=False, warm_start=True, score=0.293, total=   0.0s\n",
      "[CV] fit_intercept=False, loss=perceptron, penalty=l1, shuffle=False, warm_start=True \n",
      "[CV]  fit_intercept=False, loss=perceptron, penalty=l1, shuffle=False, warm_start=True, score=0.293, total=   0.0s\n",
      "[CV] fit_intercept=False, loss=perceptron, penalty=l1, shuffle=False, warm_start=False \n",
      "[CV]  fit_intercept=False, loss=perceptron, penalty=l1, shuffle=False, warm_start=False, score=0.292, total=   0.0s\n",
      "[CV] fit_intercept=False, loss=perceptron, penalty=l1, shuffle=False, warm_start=False \n",
      "[CV]  fit_intercept=False, loss=perceptron, penalty=l1, shuffle=False, warm_start=False, score=0.293, total=   0.0s\n",
      "[CV] fit_intercept=False, loss=perceptron, penalty=l1, shuffle=False, warm_start=False \n",
      "[CV]  fit_intercept=False, loss=perceptron, penalty=l1, shuffle=False, warm_start=False, score=0.293, total=   0.0s\n",
      "[CV] fit_intercept=False, loss=perceptron, penalty=l1, shuffle=False, warm_start=False \n",
      "[CV]  fit_intercept=False, loss=perceptron, penalty=l1, shuffle=False, warm_start=False, score=0.293, total=   0.0s\n",
      "[CV] fit_intercept=False, loss=perceptron, penalty=l1, shuffle=False, warm_start=False \n",
      "[CV]  fit_intercept=False, loss=perceptron, penalty=l1, shuffle=False, warm_start=False, score=0.293, total=   0.0s\n",
      "[CV] fit_intercept=False, loss=perceptron, penalty=elasticnet, shuffle=True, warm_start=True \n",
      "[CV]  fit_intercept=False, loss=perceptron, penalty=elasticnet, shuffle=True, warm_start=True, score=0.292, total=   0.0s\n",
      "[CV] fit_intercept=False, loss=perceptron, penalty=elasticnet, shuffle=True, warm_start=True \n",
      "[CV]  fit_intercept=False, loss=perceptron, penalty=elasticnet, shuffle=True, warm_start=True, score=0.293, total=   0.0s\n",
      "[CV] fit_intercept=False, loss=perceptron, penalty=elasticnet, shuffle=True, warm_start=True \n",
      "[CV]  fit_intercept=False, loss=perceptron, penalty=elasticnet, shuffle=True, warm_start=True, score=0.293, total=   0.0s\n",
      "[CV] fit_intercept=False, loss=perceptron, penalty=elasticnet, shuffle=True, warm_start=True \n",
      "[CV]  fit_intercept=False, loss=perceptron, penalty=elasticnet, shuffle=True, warm_start=True, score=0.293, total=   0.0s\n",
      "[CV] fit_intercept=False, loss=perceptron, penalty=elasticnet, shuffle=True, warm_start=True \n",
      "[CV]  fit_intercept=False, loss=perceptron, penalty=elasticnet, shuffle=True, warm_start=True, score=0.293, total=   0.0s\n",
      "[CV] fit_intercept=False, loss=perceptron, penalty=elasticnet, shuffle=True, warm_start=False \n",
      "[CV]  fit_intercept=False, loss=perceptron, penalty=elasticnet, shuffle=True, warm_start=False, score=0.292, total=   0.0s\n",
      "[CV] fit_intercept=False, loss=perceptron, penalty=elasticnet, shuffle=True, warm_start=False \n",
      "[CV]  fit_intercept=False, loss=perceptron, penalty=elasticnet, shuffle=True, warm_start=False, score=0.293, total=   0.0s\n",
      "[CV] fit_intercept=False, loss=perceptron, penalty=elasticnet, shuffle=True, warm_start=False \n",
      "[CV]  fit_intercept=False, loss=perceptron, penalty=elasticnet, shuffle=True, warm_start=False, score=0.293, total=   0.0s\n",
      "[CV] fit_intercept=False, loss=perceptron, penalty=elasticnet, shuffle=True, warm_start=False \n",
      "[CV]  fit_intercept=False, loss=perceptron, penalty=elasticnet, shuffle=True, warm_start=False, score=0.293, total=   0.0s\n",
      "[CV] fit_intercept=False, loss=perceptron, penalty=elasticnet, shuffle=True, warm_start=False \n",
      "[CV]  fit_intercept=False, loss=perceptron, penalty=elasticnet, shuffle=True, warm_start=False, score=0.293, total=   0.0s\n",
      "[CV] fit_intercept=False, loss=perceptron, penalty=elasticnet, shuffle=False, warm_start=True \n",
      "[CV]  fit_intercept=False, loss=perceptron, penalty=elasticnet, shuffle=False, warm_start=True, score=0.292, total=   0.0s\n",
      "[CV] fit_intercept=False, loss=perceptron, penalty=elasticnet, shuffle=False, warm_start=True \n",
      "[CV]  fit_intercept=False, loss=perceptron, penalty=elasticnet, shuffle=False, warm_start=True, score=0.293, total=   0.0s\n",
      "[CV] fit_intercept=False, loss=perceptron, penalty=elasticnet, shuffle=False, warm_start=True \n",
      "[CV]  fit_intercept=False, loss=perceptron, penalty=elasticnet, shuffle=False, warm_start=True, score=0.293, total=   0.0s\n",
      "[CV] fit_intercept=False, loss=perceptron, penalty=elasticnet, shuffle=False, warm_start=True \n",
      "[CV]  fit_intercept=False, loss=perceptron, penalty=elasticnet, shuffle=False, warm_start=True, score=0.293, total=   0.0s\n",
      "[CV] fit_intercept=False, loss=perceptron, penalty=elasticnet, shuffle=False, warm_start=True \n",
      "[CV]  fit_intercept=False, loss=perceptron, penalty=elasticnet, shuffle=False, warm_start=True, score=0.293, total=   0.0s\n",
      "[CV] fit_intercept=False, loss=perceptron, penalty=elasticnet, shuffle=False, warm_start=False \n",
      "[CV]  fit_intercept=False, loss=perceptron, penalty=elasticnet, shuffle=False, warm_start=False, score=0.292, total=   0.0s\n",
      "[CV] fit_intercept=False, loss=perceptron, penalty=elasticnet, shuffle=False, warm_start=False \n",
      "[CV]  fit_intercept=False, loss=perceptron, penalty=elasticnet, shuffle=False, warm_start=False, score=0.293, total=   0.0s\n",
      "[CV] fit_intercept=False, loss=perceptron, penalty=elasticnet, shuffle=False, warm_start=False \n",
      "[CV]  fit_intercept=False, loss=perceptron, penalty=elasticnet, shuffle=False, warm_start=False, score=0.293, total=   0.0s\n",
      "[CV] fit_intercept=False, loss=perceptron, penalty=elasticnet, shuffle=False, warm_start=False \n",
      "[CV]  fit_intercept=False, loss=perceptron, penalty=elasticnet, shuffle=False, warm_start=False, score=0.293, total=   0.0s\n",
      "[CV] fit_intercept=False, loss=perceptron, penalty=elasticnet, shuffle=False, warm_start=False \n",
      "[CV]  fit_intercept=False, loss=perceptron, penalty=elasticnet, shuffle=False, warm_start=False, score=0.293, total=   0.0s\n"
     ]
    },
    {
     "name": "stderr",
     "output_type": "stream",
     "text": [
      "[Parallel(n_jobs=1)]: Done 360 out of 360 | elapsed:    8.1s finished\n"
     ]
    }
   ],
   "source": [
    "grid = {\n",
    "    'loss':['log','hinge','perceptron'],\n",
    "    'penalty':['l2','l1','elasticnet'],\n",
    "    'fit_intercept':[True,False],\n",
    "    'shuffle':[True,False],\n",
    "    'warm_start':[True,False],\n",
    "}\n",
    "gs = GridSearchCV(SGDClassifier(),cv=5,verbose=25,param_grid=grid).fit(X_train,y_train)\n",
    "import pickle\n",
    "pickle.dump(gs,open('./model_s.pkl','wb'))"
   ]
  },
  {
   "cell_type": "code",
   "execution_count": null,
   "metadata": {},
   "outputs": [
    {
     "name": "stdout",
     "output_type": "stream",
     "text": [
      "GradientBoostingClassifier\n"
     ]
    },
    {
     "name": "stderr",
     "output_type": "stream",
     "text": [
      "/home/ranuga/.local/lib/python3.8/site-packages/sklearn/metrics/_classification.py:1221: UndefinedMetricWarning: Precision is ill-defined and being set to 0.0 in labels with no predicted samples. Use `zero_division` parameter to control this behavior.\n",
      "  _warn_prf(average, modifier, msg_start, len(result))\n"
     ]
    },
    {
     "name": "stdout",
     "output_type": "stream",
     "text": [
      "\n",
      "\n",
      "\n",
      "ExtraTreesClassifier\n"
     ]
    },
    {
     "name": "stderr",
     "output_type": "stream",
     "text": [
      "/home/ranuga/.local/lib/python3.8/site-packages/sklearn/metrics/_classification.py:1221: UndefinedMetricWarning: Precision is ill-defined and being set to 0.0 in labels with no predicted samples. Use `zero_division` parameter to control this behavior.\n",
      "  _warn_prf(average, modifier, msg_start, len(result))\n"
     ]
    },
    {
     "name": "stdout",
     "output_type": "stream",
     "text": [
      "\n",
      "\n",
      "\n",
      "BaggingClassifier\n"
     ]
    },
    {
     "name": "stderr",
     "output_type": "stream",
     "text": [
      "/home/ranuga/.local/lib/python3.8/site-packages/sklearn/metrics/_classification.py:1221: UndefinedMetricWarning: Precision is ill-defined and being set to 0.0 in labels with no predicted samples. Use `zero_division` parameter to control this behavior.\n",
      "  _warn_prf(average, modifier, msg_start, len(result))\n"
     ]
    },
    {
     "name": "stdout",
     "output_type": "stream",
     "text": [
      "\n",
      "\n",
      "\n",
      "AdaBoostClassifier\n"
     ]
    },
    {
     "name": "stderr",
     "output_type": "stream",
     "text": [
      "/home/ranuga/.local/lib/python3.8/site-packages/sklearn/metrics/_classification.py:1221: UndefinedMetricWarning: Precision is ill-defined and being set to 0.0 in labels with no predicted samples. Use `zero_division` parameter to control this behavior.\n",
      "  _warn_prf(average, modifier, msg_start, len(result))\n"
     ]
    },
    {
     "name": "stdout",
     "output_type": "stream",
     "text": [
      "\n",
      "\n",
      "\n",
      "RandomForestClassifier\n"
     ]
    },
    {
     "name": "stderr",
     "output_type": "stream",
     "text": [
      "/home/ranuga/.local/lib/python3.8/site-packages/sklearn/metrics/_classification.py:1221: UndefinedMetricWarning: Precision is ill-defined and being set to 0.0 in labels with no predicted samples. Use `zero_division` parameter to control this behavior.\n",
      "  _warn_prf(average, modifier, msg_start, len(result))\n"
     ]
    },
    {
     "name": "stdout",
     "output_type": "stream",
     "text": [
      "\n",
      "\n",
      "\n",
      "SGDClassifier\n",
      "\n",
      "\n",
      "\n",
      "RidgeClassifier\n",
      "\n",
      "\n",
      "\n",
      "ExtraTreeClassifier\n"
     ]
    },
    {
     "name": "stderr",
     "output_type": "stream",
     "text": [
      "/home/ranuga/.local/lib/python3.8/site-packages/sklearn/metrics/_classification.py:1221: UndefinedMetricWarning: Precision is ill-defined and being set to 0.0 in labels with no predicted samples. Use `zero_division` parameter to control this behavior.\n",
      "  _warn_prf(average, modifier, msg_start, len(result))\n",
      "/home/ranuga/.local/lib/python3.8/site-packages/sklearn/metrics/_classification.py:1221: UndefinedMetricWarning: Precision is ill-defined and being set to 0.0 in labels with no predicted samples. Use `zero_division` parameter to control this behavior.\n",
      "  _warn_prf(average, modifier, msg_start, len(result))\n"
     ]
    },
    {
     "name": "stdout",
     "output_type": "stream",
     "text": [
      "\n",
      "\n",
      "\n",
      "DecisionTreeClassifier\n"
     ]
    },
    {
     "name": "stderr",
     "output_type": "stream",
     "text": [
      "/home/ranuga/.local/lib/python3.8/site-packages/sklearn/metrics/_classification.py:1221: UndefinedMetricWarning: Precision is ill-defined and being set to 0.0 in labels with no predicted samples. Use `zero_division` parameter to control this behavior.\n",
      "  _warn_prf(average, modifier, msg_start, len(result))\n",
      "[Parallel(n_jobs=1)]: Using backend SequentialBackend with 1 concurrent workers.\n",
      "[Parallel(n_jobs=1)]: Done   1 out of   1 | elapsed:    0.0s remaining:    0.0s\n",
      "[Parallel(n_jobs=1)]: Done   2 out of   2 | elapsed:    0.0s remaining:    0.0s\n",
      "[Parallel(n_jobs=1)]: Done   3 out of   3 | elapsed:    0.0s remaining:    0.0s\n",
      "[Parallel(n_jobs=1)]: Done   4 out of   4 | elapsed:    0.1s remaining:    0.0s\n",
      "[Parallel(n_jobs=1)]: Done   5 out of   5 | elapsed:    0.1s remaining:    0.0s\n",
      "[Parallel(n_jobs=1)]: Done   6 out of   6 | elapsed:    0.1s remaining:    0.0s\n"
     ]
    },
    {
     "name": "stdout",
     "output_type": "stream",
     "text": [
      "\n",
      "\n",
      "\n",
      "Fitting 2 folds for each of 243 candidates, totalling 486 fits\n",
      "[CV] fit_intercept=True, loss=log, penalty=l2, shuffle=True, warm_start=True \n",
      "[CV]  fit_intercept=True, loss=log, penalty=l2, shuffle=True, warm_start=True, score=0.383, total=   0.0s\n",
      "[CV] fit_intercept=True, loss=log, penalty=l2, shuffle=True, warm_start=True \n",
      "[CV]  fit_intercept=True, loss=log, penalty=l2, shuffle=True, warm_start=True, score=0.382, total=   0.0s\n",
      "[CV] fit_intercept=True, loss=log, penalty=l2, shuffle=True, warm_start=False \n",
      "[CV]  fit_intercept=True, loss=log, penalty=l2, shuffle=True, warm_start=False, score=0.383, total=   0.0s\n",
      "[CV] fit_intercept=True, loss=log, penalty=l2, shuffle=True, warm_start=False \n",
      "[CV]  fit_intercept=True, loss=log, penalty=l2, shuffle=True, warm_start=False, score=0.382, total=   0.0s\n",
      "[CV] fit_intercept=True, loss=log, penalty=l2, shuffle=True, warm_start=None \n",
      "[CV]  fit_intercept=True, loss=log, penalty=l2, shuffle=True, warm_start=None, score=0.383, total=   0.0s\n",
      "[CV] fit_intercept=True, loss=log, penalty=l2, shuffle=True, warm_start=None \n",
      "[CV]  fit_intercept=True, loss=log, penalty=l2, shuffle=True, warm_start=None, score=0.382, total=   0.0s\n",
      "[CV] fit_intercept=True, loss=log, penalty=l2, shuffle=False, warm_start=True \n",
      "[CV]  fit_intercept=True, loss=log, penalty=l2, shuffle=False, warm_start=True, score=0.383, total=   0.0s\n",
      "[CV] fit_intercept=True, loss=log, penalty=l2, shuffle=False, warm_start=True \n",
      "[CV]  fit_intercept=True, loss=log, penalty=l2, shuffle=False, warm_start=True, score=0.382, total=   0.0s\n",
      "[CV] fit_intercept=True, loss=log, penalty=l2, shuffle=False, warm_start=False \n",
      "[CV]  fit_intercept=True, loss=log, penalty=l2, shuffle=False, warm_start=False, score=0.383, total=   0.0s\n",
      "[CV] fit_intercept=True, loss=log, penalty=l2, shuffle=False, warm_start=False \n",
      "[CV]  fit_intercept=True, loss=log, penalty=l2, shuffle=False, warm_start=False, score=0.382, total=   0.0s\n",
      "[CV] fit_intercept=True, loss=log, penalty=l2, shuffle=False, warm_start=None \n",
      "[CV]  fit_intercept=True, loss=log, penalty=l2, shuffle=False, warm_start=None, score=0.383, total=   0.0s\n",
      "[CV] fit_intercept=True, loss=log, penalty=l2, shuffle=False, warm_start=None \n",
      "[CV]  fit_intercept=True, loss=log, penalty=l2, shuffle=False, warm_start=None, score=0.382, total=   0.0s\n",
      "[CV] fit_intercept=True, loss=log, penalty=l2, shuffle=None, warm_start=True \n"
     ]
    },
    {
     "name": "stderr",
     "output_type": "stream",
     "text": [
      "[Parallel(n_jobs=1)]: Done   7 out of   7 | elapsed:    0.1s remaining:    0.0s\n",
      "[Parallel(n_jobs=1)]: Done   8 out of   8 | elapsed:    0.1s remaining:    0.0s\n",
      "[Parallel(n_jobs=1)]: Done   9 out of   9 | elapsed:    0.1s remaining:    0.0s\n",
      "[Parallel(n_jobs=1)]: Done  10 out of  10 | elapsed:    0.1s remaining:    0.0s\n",
      "[Parallel(n_jobs=1)]: Done  11 out of  11 | elapsed:    0.2s remaining:    0.0s\n",
      "[Parallel(n_jobs=1)]: Done  12 out of  12 | elapsed:    0.2s remaining:    0.0s\n"
     ]
    },
    {
     "ename": "ValueError",
     "evalue": "shuffle must be either True or False",
     "output_type": "error",
     "traceback": [
      "\u001b[0;31m---------------------------------------------------------------------------\u001b[0m",
      "\u001b[0;31mValueError\u001b[0m                                Traceback (most recent call last)",
      "\u001b[0;32m<ipython-input-38-c46bd532105a>\u001b[0m in \u001b[0;36m<module>\u001b[0;34m\u001b[0m\n\u001b[1;32m     28\u001b[0m     \u001b[0;34m'warm_start'\u001b[0m\u001b[0;34m:\u001b[0m\u001b[0;34m[\u001b[0m\u001b[0;32mTrue\u001b[0m\u001b[0;34m,\u001b[0m\u001b[0;32mFalse\u001b[0m\u001b[0;34m,\u001b[0m\u001b[0;32mNone\u001b[0m\u001b[0;34m]\u001b[0m\u001b[0;34m\u001b[0m\u001b[0;34m\u001b[0m\u001b[0m\n\u001b[1;32m     29\u001b[0m }\n\u001b[0;32m---> 30\u001b[0;31m \u001b[0mgs\u001b[0m \u001b[0;34m=\u001b[0m \u001b[0mGridSearchCV\u001b[0m\u001b[0;34m(\u001b[0m\u001b[0mSGDClassifier\u001b[0m\u001b[0;34m(\u001b[0m\u001b[0;34m)\u001b[0m\u001b[0;34m,\u001b[0m\u001b[0mcv\u001b[0m\u001b[0;34m=\u001b[0m\u001b[0mround\u001b[0m\u001b[0;34m(\u001b[0m\u001b[0;36m2.5\u001b[0m\u001b[0;34m)\u001b[0m\u001b[0;34m,\u001b[0m\u001b[0mverbose\u001b[0m\u001b[0;34m=\u001b[0m\u001b[0;36m25\u001b[0m\u001b[0;34m,\u001b[0m\u001b[0mparam_grid\u001b[0m\u001b[0;34m=\u001b[0m\u001b[0mgrid\u001b[0m\u001b[0;34m)\u001b[0m\u001b[0;34m.\u001b[0m\u001b[0mfit\u001b[0m\u001b[0;34m(\u001b[0m\u001b[0mX_train\u001b[0m\u001b[0;34m,\u001b[0m\u001b[0my_train\u001b[0m\u001b[0;34m)\u001b[0m\u001b[0;34m\u001b[0m\u001b[0;34m\u001b[0m\u001b[0m\n\u001b[0m\u001b[1;32m     31\u001b[0m \u001b[0;32mimport\u001b[0m \u001b[0mpickle\u001b[0m\u001b[0;34m\u001b[0m\u001b[0;34m\u001b[0m\u001b[0m\n\u001b[1;32m     32\u001b[0m \u001b[0mpickle\u001b[0m\u001b[0;34m.\u001b[0m\u001b[0mdump\u001b[0m\u001b[0;34m(\u001b[0m\u001b[0mgs\u001b[0m\u001b[0;34m,\u001b[0m\u001b[0mopen\u001b[0m\u001b[0;34m(\u001b[0m\u001b[0;34m'./model_n.pkl'\u001b[0m\u001b[0;34m,\u001b[0m\u001b[0;34m'wb'\u001b[0m\u001b[0;34m)\u001b[0m\u001b[0;34m)\u001b[0m\u001b[0;34m\u001b[0m\u001b[0;34m\u001b[0m\u001b[0m\n",
      "\u001b[0;32m~/.local/lib/python3.8/site-packages/sklearn/utils/validation.py\u001b[0m in \u001b[0;36minner_f\u001b[0;34m(*args, **kwargs)\u001b[0m\n\u001b[1;32m     70\u001b[0m                           FutureWarning)\n\u001b[1;32m     71\u001b[0m         \u001b[0mkwargs\u001b[0m\u001b[0;34m.\u001b[0m\u001b[0mupdate\u001b[0m\u001b[0;34m(\u001b[0m\u001b[0;34m{\u001b[0m\u001b[0mk\u001b[0m\u001b[0;34m:\u001b[0m \u001b[0marg\u001b[0m \u001b[0;32mfor\u001b[0m \u001b[0mk\u001b[0m\u001b[0;34m,\u001b[0m \u001b[0marg\u001b[0m \u001b[0;32min\u001b[0m \u001b[0mzip\u001b[0m\u001b[0;34m(\u001b[0m\u001b[0msig\u001b[0m\u001b[0;34m.\u001b[0m\u001b[0mparameters\u001b[0m\u001b[0;34m,\u001b[0m \u001b[0margs\u001b[0m\u001b[0;34m)\u001b[0m\u001b[0;34m}\u001b[0m\u001b[0;34m)\u001b[0m\u001b[0;34m\u001b[0m\u001b[0;34m\u001b[0m\u001b[0m\n\u001b[0;32m---> 72\u001b[0;31m         \u001b[0;32mreturn\u001b[0m \u001b[0mf\u001b[0m\u001b[0;34m(\u001b[0m\u001b[0;34m**\u001b[0m\u001b[0mkwargs\u001b[0m\u001b[0;34m)\u001b[0m\u001b[0;34m\u001b[0m\u001b[0;34m\u001b[0m\u001b[0m\n\u001b[0m\u001b[1;32m     73\u001b[0m     \u001b[0;32mreturn\u001b[0m \u001b[0minner_f\u001b[0m\u001b[0;34m\u001b[0m\u001b[0;34m\u001b[0m\u001b[0m\n\u001b[1;32m     74\u001b[0m \u001b[0;34m\u001b[0m\u001b[0m\n",
      "\u001b[0;32m~/.local/lib/python3.8/site-packages/sklearn/model_selection/_search.py\u001b[0m in \u001b[0;36mfit\u001b[0;34m(self, X, y, groups, **fit_params)\u001b[0m\n\u001b[1;32m    734\u001b[0m                 \u001b[0;32mreturn\u001b[0m \u001b[0mresults\u001b[0m\u001b[0;34m\u001b[0m\u001b[0;34m\u001b[0m\u001b[0m\n\u001b[1;32m    735\u001b[0m \u001b[0;34m\u001b[0m\u001b[0m\n\u001b[0;32m--> 736\u001b[0;31m             \u001b[0mself\u001b[0m\u001b[0;34m.\u001b[0m\u001b[0m_run_search\u001b[0m\u001b[0;34m(\u001b[0m\u001b[0mevaluate_candidates\u001b[0m\u001b[0;34m)\u001b[0m\u001b[0;34m\u001b[0m\u001b[0;34m\u001b[0m\u001b[0m\n\u001b[0m\u001b[1;32m    737\u001b[0m \u001b[0;34m\u001b[0m\u001b[0m\n\u001b[1;32m    738\u001b[0m         \u001b[0;31m# For multi-metric evaluation, store the best_index_, best_params_ and\u001b[0m\u001b[0;34m\u001b[0m\u001b[0;34m\u001b[0m\u001b[0;34m\u001b[0m\u001b[0m\n",
      "\u001b[0;32m~/.local/lib/python3.8/site-packages/sklearn/model_selection/_search.py\u001b[0m in \u001b[0;36m_run_search\u001b[0;34m(self, evaluate_candidates)\u001b[0m\n\u001b[1;32m   1186\u001b[0m     \u001b[0;32mdef\u001b[0m \u001b[0m_run_search\u001b[0m\u001b[0;34m(\u001b[0m\u001b[0mself\u001b[0m\u001b[0;34m,\u001b[0m \u001b[0mevaluate_candidates\u001b[0m\u001b[0;34m)\u001b[0m\u001b[0;34m:\u001b[0m\u001b[0;34m\u001b[0m\u001b[0;34m\u001b[0m\u001b[0m\n\u001b[1;32m   1187\u001b[0m         \u001b[0;34m\"\"\"Search all candidates in param_grid\"\"\"\u001b[0m\u001b[0;34m\u001b[0m\u001b[0;34m\u001b[0m\u001b[0m\n\u001b[0;32m-> 1188\u001b[0;31m         \u001b[0mevaluate_candidates\u001b[0m\u001b[0;34m(\u001b[0m\u001b[0mParameterGrid\u001b[0m\u001b[0;34m(\u001b[0m\u001b[0mself\u001b[0m\u001b[0;34m.\u001b[0m\u001b[0mparam_grid\u001b[0m\u001b[0;34m)\u001b[0m\u001b[0;34m)\u001b[0m\u001b[0;34m\u001b[0m\u001b[0;34m\u001b[0m\u001b[0m\n\u001b[0m\u001b[1;32m   1189\u001b[0m \u001b[0;34m\u001b[0m\u001b[0m\n\u001b[1;32m   1190\u001b[0m \u001b[0;34m\u001b[0m\u001b[0m\n",
      "\u001b[0;32m~/.local/lib/python3.8/site-packages/sklearn/model_selection/_search.py\u001b[0m in \u001b[0;36mevaluate_candidates\u001b[0;34m(candidate_params)\u001b[0m\n\u001b[1;32m    706\u001b[0m                               n_splits, n_candidates, n_candidates * n_splits))\n\u001b[1;32m    707\u001b[0m \u001b[0;34m\u001b[0m\u001b[0m\n\u001b[0;32m--> 708\u001b[0;31m                 out = parallel(delayed(_fit_and_score)(clone(base_estimator),\n\u001b[0m\u001b[1;32m    709\u001b[0m                                                        \u001b[0mX\u001b[0m\u001b[0;34m,\u001b[0m \u001b[0my\u001b[0m\u001b[0;34m,\u001b[0m\u001b[0;34m\u001b[0m\u001b[0;34m\u001b[0m\u001b[0m\n\u001b[1;32m    710\u001b[0m                                                        \u001b[0mtrain\u001b[0m\u001b[0;34m=\u001b[0m\u001b[0mtrain\u001b[0m\u001b[0;34m,\u001b[0m \u001b[0mtest\u001b[0m\u001b[0;34m=\u001b[0m\u001b[0mtest\u001b[0m\u001b[0;34m,\u001b[0m\u001b[0;34m\u001b[0m\u001b[0;34m\u001b[0m\u001b[0m\n",
      "\u001b[0;32m~/.local/lib/python3.8/site-packages/joblib/parallel.py\u001b[0m in \u001b[0;36m__call__\u001b[0;34m(self, iterable)\u001b[0m\n\u001b[1;32m   1030\u001b[0m                 \u001b[0mself\u001b[0m\u001b[0;34m.\u001b[0m\u001b[0m_iterating\u001b[0m \u001b[0;34m=\u001b[0m \u001b[0mself\u001b[0m\u001b[0;34m.\u001b[0m\u001b[0m_original_iterator\u001b[0m \u001b[0;32mis\u001b[0m \u001b[0;32mnot\u001b[0m \u001b[0;32mNone\u001b[0m\u001b[0;34m\u001b[0m\u001b[0;34m\u001b[0m\u001b[0m\n\u001b[1;32m   1031\u001b[0m \u001b[0;34m\u001b[0m\u001b[0m\n\u001b[0;32m-> 1032\u001b[0;31m             \u001b[0;32mwhile\u001b[0m \u001b[0mself\u001b[0m\u001b[0;34m.\u001b[0m\u001b[0mdispatch_one_batch\u001b[0m\u001b[0;34m(\u001b[0m\u001b[0miterator\u001b[0m\u001b[0;34m)\u001b[0m\u001b[0;34m:\u001b[0m\u001b[0;34m\u001b[0m\u001b[0;34m\u001b[0m\u001b[0m\n\u001b[0m\u001b[1;32m   1033\u001b[0m                 \u001b[0;32mpass\u001b[0m\u001b[0;34m\u001b[0m\u001b[0;34m\u001b[0m\u001b[0m\n\u001b[1;32m   1034\u001b[0m \u001b[0;34m\u001b[0m\u001b[0m\n",
      "\u001b[0;32m~/.local/lib/python3.8/site-packages/joblib/parallel.py\u001b[0m in \u001b[0;36mdispatch_one_batch\u001b[0;34m(self, iterator)\u001b[0m\n\u001b[1;32m    845\u001b[0m                 \u001b[0;32mreturn\u001b[0m \u001b[0;32mFalse\u001b[0m\u001b[0;34m\u001b[0m\u001b[0;34m\u001b[0m\u001b[0m\n\u001b[1;32m    846\u001b[0m             \u001b[0;32melse\u001b[0m\u001b[0;34m:\u001b[0m\u001b[0;34m\u001b[0m\u001b[0;34m\u001b[0m\u001b[0m\n\u001b[0;32m--> 847\u001b[0;31m                 \u001b[0mself\u001b[0m\u001b[0;34m.\u001b[0m\u001b[0m_dispatch\u001b[0m\u001b[0;34m(\u001b[0m\u001b[0mtasks\u001b[0m\u001b[0;34m)\u001b[0m\u001b[0;34m\u001b[0m\u001b[0;34m\u001b[0m\u001b[0m\n\u001b[0m\u001b[1;32m    848\u001b[0m                 \u001b[0;32mreturn\u001b[0m \u001b[0;32mTrue\u001b[0m\u001b[0;34m\u001b[0m\u001b[0;34m\u001b[0m\u001b[0m\n\u001b[1;32m    849\u001b[0m \u001b[0;34m\u001b[0m\u001b[0m\n",
      "\u001b[0;32m~/.local/lib/python3.8/site-packages/joblib/parallel.py\u001b[0m in \u001b[0;36m_dispatch\u001b[0;34m(self, batch)\u001b[0m\n\u001b[1;32m    763\u001b[0m         \u001b[0;32mwith\u001b[0m \u001b[0mself\u001b[0m\u001b[0;34m.\u001b[0m\u001b[0m_lock\u001b[0m\u001b[0;34m:\u001b[0m\u001b[0;34m\u001b[0m\u001b[0;34m\u001b[0m\u001b[0m\n\u001b[1;32m    764\u001b[0m             \u001b[0mjob_idx\u001b[0m \u001b[0;34m=\u001b[0m \u001b[0mlen\u001b[0m\u001b[0;34m(\u001b[0m\u001b[0mself\u001b[0m\u001b[0;34m.\u001b[0m\u001b[0m_jobs\u001b[0m\u001b[0;34m)\u001b[0m\u001b[0;34m\u001b[0m\u001b[0;34m\u001b[0m\u001b[0m\n\u001b[0;32m--> 765\u001b[0;31m             \u001b[0mjob\u001b[0m \u001b[0;34m=\u001b[0m \u001b[0mself\u001b[0m\u001b[0;34m.\u001b[0m\u001b[0m_backend\u001b[0m\u001b[0;34m.\u001b[0m\u001b[0mapply_async\u001b[0m\u001b[0;34m(\u001b[0m\u001b[0mbatch\u001b[0m\u001b[0;34m,\u001b[0m \u001b[0mcallback\u001b[0m\u001b[0;34m=\u001b[0m\u001b[0mcb\u001b[0m\u001b[0;34m)\u001b[0m\u001b[0;34m\u001b[0m\u001b[0;34m\u001b[0m\u001b[0m\n\u001b[0m\u001b[1;32m    766\u001b[0m             \u001b[0;31m# A job can complete so quickly than its callback is\u001b[0m\u001b[0;34m\u001b[0m\u001b[0;34m\u001b[0m\u001b[0;34m\u001b[0m\u001b[0m\n\u001b[1;32m    767\u001b[0m             \u001b[0;31m# called before we get here, causing self._jobs to\u001b[0m\u001b[0;34m\u001b[0m\u001b[0;34m\u001b[0m\u001b[0;34m\u001b[0m\u001b[0m\n",
      "\u001b[0;32m~/.local/lib/python3.8/site-packages/joblib/_parallel_backends.py\u001b[0m in \u001b[0;36mapply_async\u001b[0;34m(self, func, callback)\u001b[0m\n\u001b[1;32m    206\u001b[0m     \u001b[0;32mdef\u001b[0m \u001b[0mapply_async\u001b[0m\u001b[0;34m(\u001b[0m\u001b[0mself\u001b[0m\u001b[0;34m,\u001b[0m \u001b[0mfunc\u001b[0m\u001b[0;34m,\u001b[0m \u001b[0mcallback\u001b[0m\u001b[0;34m=\u001b[0m\u001b[0;32mNone\u001b[0m\u001b[0;34m)\u001b[0m\u001b[0;34m:\u001b[0m\u001b[0;34m\u001b[0m\u001b[0;34m\u001b[0m\u001b[0m\n\u001b[1;32m    207\u001b[0m         \u001b[0;34m\"\"\"Schedule a func to be run\"\"\"\u001b[0m\u001b[0;34m\u001b[0m\u001b[0;34m\u001b[0m\u001b[0m\n\u001b[0;32m--> 208\u001b[0;31m         \u001b[0mresult\u001b[0m \u001b[0;34m=\u001b[0m \u001b[0mImmediateResult\u001b[0m\u001b[0;34m(\u001b[0m\u001b[0mfunc\u001b[0m\u001b[0;34m)\u001b[0m\u001b[0;34m\u001b[0m\u001b[0;34m\u001b[0m\u001b[0m\n\u001b[0m\u001b[1;32m    209\u001b[0m         \u001b[0;32mif\u001b[0m \u001b[0mcallback\u001b[0m\u001b[0;34m:\u001b[0m\u001b[0;34m\u001b[0m\u001b[0;34m\u001b[0m\u001b[0m\n\u001b[1;32m    210\u001b[0m             \u001b[0mcallback\u001b[0m\u001b[0;34m(\u001b[0m\u001b[0mresult\u001b[0m\u001b[0;34m)\u001b[0m\u001b[0;34m\u001b[0m\u001b[0;34m\u001b[0m\u001b[0m\n",
      "\u001b[0;32m~/.local/lib/python3.8/site-packages/joblib/_parallel_backends.py\u001b[0m in \u001b[0;36m__init__\u001b[0;34m(self, batch)\u001b[0m\n\u001b[1;32m    570\u001b[0m         \u001b[0;31m# Don't delay the application, to avoid keeping the input\u001b[0m\u001b[0;34m\u001b[0m\u001b[0;34m\u001b[0m\u001b[0;34m\u001b[0m\u001b[0m\n\u001b[1;32m    571\u001b[0m         \u001b[0;31m# arguments in memory\u001b[0m\u001b[0;34m\u001b[0m\u001b[0;34m\u001b[0m\u001b[0;34m\u001b[0m\u001b[0m\n\u001b[0;32m--> 572\u001b[0;31m         \u001b[0mself\u001b[0m\u001b[0;34m.\u001b[0m\u001b[0mresults\u001b[0m \u001b[0;34m=\u001b[0m \u001b[0mbatch\u001b[0m\u001b[0;34m(\u001b[0m\u001b[0;34m)\u001b[0m\u001b[0;34m\u001b[0m\u001b[0;34m\u001b[0m\u001b[0m\n\u001b[0m\u001b[1;32m    573\u001b[0m \u001b[0;34m\u001b[0m\u001b[0m\n\u001b[1;32m    574\u001b[0m     \u001b[0;32mdef\u001b[0m \u001b[0mget\u001b[0m\u001b[0;34m(\u001b[0m\u001b[0mself\u001b[0m\u001b[0;34m)\u001b[0m\u001b[0;34m:\u001b[0m\u001b[0;34m\u001b[0m\u001b[0;34m\u001b[0m\u001b[0m\n",
      "\u001b[0;32m~/.local/lib/python3.8/site-packages/joblib/parallel.py\u001b[0m in \u001b[0;36m__call__\u001b[0;34m(self)\u001b[0m\n\u001b[1;32m    250\u001b[0m         \u001b[0;31m# change the default number of processes to -1\u001b[0m\u001b[0;34m\u001b[0m\u001b[0;34m\u001b[0m\u001b[0;34m\u001b[0m\u001b[0m\n\u001b[1;32m    251\u001b[0m         \u001b[0;32mwith\u001b[0m \u001b[0mparallel_backend\u001b[0m\u001b[0;34m(\u001b[0m\u001b[0mself\u001b[0m\u001b[0;34m.\u001b[0m\u001b[0m_backend\u001b[0m\u001b[0;34m,\u001b[0m \u001b[0mn_jobs\u001b[0m\u001b[0;34m=\u001b[0m\u001b[0mself\u001b[0m\u001b[0;34m.\u001b[0m\u001b[0m_n_jobs\u001b[0m\u001b[0;34m)\u001b[0m\u001b[0;34m:\u001b[0m\u001b[0;34m\u001b[0m\u001b[0;34m\u001b[0m\u001b[0m\n\u001b[0;32m--> 252\u001b[0;31m             return [func(*args, **kwargs)\n\u001b[0m\u001b[1;32m    253\u001b[0m                     for func, args, kwargs in self.items]\n\u001b[1;32m    254\u001b[0m \u001b[0;34m\u001b[0m\u001b[0m\n",
      "\u001b[0;32m~/.local/lib/python3.8/site-packages/joblib/parallel.py\u001b[0m in \u001b[0;36m<listcomp>\u001b[0;34m(.0)\u001b[0m\n\u001b[1;32m    250\u001b[0m         \u001b[0;31m# change the default number of processes to -1\u001b[0m\u001b[0;34m\u001b[0m\u001b[0;34m\u001b[0m\u001b[0;34m\u001b[0m\u001b[0m\n\u001b[1;32m    251\u001b[0m         \u001b[0;32mwith\u001b[0m \u001b[0mparallel_backend\u001b[0m\u001b[0;34m(\u001b[0m\u001b[0mself\u001b[0m\u001b[0;34m.\u001b[0m\u001b[0m_backend\u001b[0m\u001b[0;34m,\u001b[0m \u001b[0mn_jobs\u001b[0m\u001b[0;34m=\u001b[0m\u001b[0mself\u001b[0m\u001b[0;34m.\u001b[0m\u001b[0m_n_jobs\u001b[0m\u001b[0;34m)\u001b[0m\u001b[0;34m:\u001b[0m\u001b[0;34m\u001b[0m\u001b[0;34m\u001b[0m\u001b[0m\n\u001b[0;32m--> 252\u001b[0;31m             return [func(*args, **kwargs)\n\u001b[0m\u001b[1;32m    253\u001b[0m                     for func, args, kwargs in self.items]\n\u001b[1;32m    254\u001b[0m \u001b[0;34m\u001b[0m\u001b[0m\n",
      "\u001b[0;32m~/.local/lib/python3.8/site-packages/sklearn/model_selection/_validation.py\u001b[0m in \u001b[0;36m_fit_and_score\u001b[0;34m(estimator, X, y, scorer, train, test, verbose, parameters, fit_params, return_train_score, return_parameters, return_n_test_samples, return_times, return_estimator, error_score)\u001b[0m\n\u001b[1;32m    518\u001b[0m             \u001b[0mcloned_parameters\u001b[0m\u001b[0;34m[\u001b[0m\u001b[0mk\u001b[0m\u001b[0;34m]\u001b[0m \u001b[0;34m=\u001b[0m \u001b[0mclone\u001b[0m\u001b[0;34m(\u001b[0m\u001b[0mv\u001b[0m\u001b[0;34m,\u001b[0m \u001b[0msafe\u001b[0m\u001b[0;34m=\u001b[0m\u001b[0;32mFalse\u001b[0m\u001b[0;34m)\u001b[0m\u001b[0;34m\u001b[0m\u001b[0;34m\u001b[0m\u001b[0m\n\u001b[1;32m    519\u001b[0m \u001b[0;34m\u001b[0m\u001b[0m\n\u001b[0;32m--> 520\u001b[0;31m         \u001b[0mestimator\u001b[0m \u001b[0;34m=\u001b[0m \u001b[0mestimator\u001b[0m\u001b[0;34m.\u001b[0m\u001b[0mset_params\u001b[0m\u001b[0;34m(\u001b[0m\u001b[0;34m**\u001b[0m\u001b[0mcloned_parameters\u001b[0m\u001b[0;34m)\u001b[0m\u001b[0;34m\u001b[0m\u001b[0;34m\u001b[0m\u001b[0m\n\u001b[0m\u001b[1;32m    521\u001b[0m \u001b[0;34m\u001b[0m\u001b[0m\n\u001b[1;32m    522\u001b[0m     \u001b[0mstart_time\u001b[0m \u001b[0;34m=\u001b[0m \u001b[0mtime\u001b[0m\u001b[0;34m.\u001b[0m\u001b[0mtime\u001b[0m\u001b[0;34m(\u001b[0m\u001b[0;34m)\u001b[0m\u001b[0;34m\u001b[0m\u001b[0;34m\u001b[0m\u001b[0m\n",
      "\u001b[0;32m~/.local/lib/python3.8/site-packages/sklearn/linear_model/_stochastic_gradient.py\u001b[0m in \u001b[0;36mset_params\u001b[0;34m(self, **kwargs)\u001b[0m\n\u001b[1;32m    115\u001b[0m         \"\"\"\n\u001b[1;32m    116\u001b[0m         \u001b[0msuper\u001b[0m\u001b[0;34m(\u001b[0m\u001b[0;34m)\u001b[0m\u001b[0;34m.\u001b[0m\u001b[0mset_params\u001b[0m\u001b[0;34m(\u001b[0m\u001b[0;34m**\u001b[0m\u001b[0mkwargs\u001b[0m\u001b[0;34m)\u001b[0m\u001b[0;34m\u001b[0m\u001b[0;34m\u001b[0m\u001b[0m\n\u001b[0;32m--> 117\u001b[0;31m         \u001b[0mself\u001b[0m\u001b[0;34m.\u001b[0m\u001b[0m_validate_params\u001b[0m\u001b[0;34m(\u001b[0m\u001b[0;34m)\u001b[0m\u001b[0;34m\u001b[0m\u001b[0;34m\u001b[0m\u001b[0m\n\u001b[0m\u001b[1;32m    118\u001b[0m         \u001b[0;32mreturn\u001b[0m \u001b[0mself\u001b[0m\u001b[0;34m\u001b[0m\u001b[0;34m\u001b[0m\u001b[0m\n\u001b[1;32m    119\u001b[0m \u001b[0;34m\u001b[0m\u001b[0m\n",
      "\u001b[0;32m~/.local/lib/python3.8/site-packages/sklearn/linear_model/_stochastic_gradient.py\u001b[0m in \u001b[0;36m_validate_params\u001b[0;34m(self, for_partial_fit)\u001b[0m\n\u001b[1;32m    125\u001b[0m         \u001b[0;34m\"\"\"Validate input params. \"\"\"\u001b[0m\u001b[0;34m\u001b[0m\u001b[0;34m\u001b[0m\u001b[0m\n\u001b[1;32m    126\u001b[0m         \u001b[0;32mif\u001b[0m \u001b[0;32mnot\u001b[0m \u001b[0misinstance\u001b[0m\u001b[0;34m(\u001b[0m\u001b[0mself\u001b[0m\u001b[0;34m.\u001b[0m\u001b[0mshuffle\u001b[0m\u001b[0;34m,\u001b[0m \u001b[0mbool\u001b[0m\u001b[0;34m)\u001b[0m\u001b[0;34m:\u001b[0m\u001b[0;34m\u001b[0m\u001b[0;34m\u001b[0m\u001b[0m\n\u001b[0;32m--> 127\u001b[0;31m             \u001b[0;32mraise\u001b[0m \u001b[0mValueError\u001b[0m\u001b[0;34m(\u001b[0m\u001b[0;34m\"shuffle must be either True or False\"\u001b[0m\u001b[0;34m)\u001b[0m\u001b[0;34m\u001b[0m\u001b[0;34m\u001b[0m\u001b[0m\n\u001b[0m\u001b[1;32m    128\u001b[0m         \u001b[0;32mif\u001b[0m \u001b[0;32mnot\u001b[0m \u001b[0misinstance\u001b[0m\u001b[0;34m(\u001b[0m\u001b[0mself\u001b[0m\u001b[0;34m.\u001b[0m\u001b[0mearly_stopping\u001b[0m\u001b[0;34m,\u001b[0m \u001b[0mbool\u001b[0m\u001b[0;34m)\u001b[0m\u001b[0;34m:\u001b[0m\u001b[0;34m\u001b[0m\u001b[0;34m\u001b[0m\u001b[0m\n\u001b[1;32m    129\u001b[0m             \u001b[0;32mraise\u001b[0m \u001b[0mValueError\u001b[0m\u001b[0;34m(\u001b[0m\u001b[0;34m\"early_stopping must be either True or False\"\u001b[0m\u001b[0;34m)\u001b[0m\u001b[0;34m\u001b[0m\u001b[0;34m\u001b[0m\u001b[0m\n",
      "\u001b[0;31mValueError\u001b[0m: shuffle must be either True or False"
     ]
    },
    {
     "data": {
      "image/png": "[encoded data removed]",
      "text/plain": [
       "<Figure size 432x288 with 2 Axes>"
      ]
     },
     "metadata": {
      "needs_background": "light"
     },
     "output_type": "display_data"
    },
    {
     "data": {
      "image/png": "[encoded data removed]",
      "text/plain": [
       "<Figure size 432x288 with 2 Axes>"
      ]
     },
     "metadata": {
      "needs_background": "light"
     },
     "output_type": "display_data"
    },
    {
     "data": {
      "image/png": "[encoded data removed]",
      "text/plain": [
       "<Figure size 432x288 with 2 Axes>"
      ]
     },
     "metadata": {
      "needs_background": "light"
     },
     "output_type": "display_data"
    }
   ],
   "source": [
    "X = data['name']\n",
    "y = data['nationality']\n",
    "from sklearn.feature_extraction.text import CountVectorizer,TfidfVectorizer\n",
    "cv = CountVectorizer()\n",
    "cv.fit(X)\n",
    "X = cv.transform(X)\n",
    "X_train,X_test,y_train,y_test = train_test_split(X,y,test_size=0.25)\n",
    "models = {\n",
    "    'GradientBoostingClassifier':GradientBoostingClassifier(),\n",
    "    'ExtraTreesClassifier':ExtraTreesClassifier(),\n",
    "    'BaggingClassifier':BaggingClassifier(),\n",
    "    'AdaBoostClassifier':AdaBoostClassifier(),\n",
    "    'RandomForestClassifier':RandomForestClassifier(),\n",
    "    'SGDClassifier':SGDClassifier(),\n",
    "    'RidgeClassifier':RidgeClassifier(),\n",
    "    'ExtraTreeClassifier':ExtraTreeClassifier(),\n",
    "    'DecisionTreeClassifier':DecisionTreeClassifier(),\n",
    "}\n",
    "models_clf_results = fit_and_calcuate_metrixs(models,X_train,X_test,y_train,y_test)\n",
    "models_clf_results = pd.DataFrame(models_clf_results.values(),models_clf_results.keys())\n",
    "models_clf_results\n",
    "models_clf_results.plot.bar(figsize=(20,10))\n",
    "grid = {\n",
    "    'loss':['log','hinge','perceptron'],\n",
    "    'penalty':['l2','l1','elasticnet'],\n",
    "    'fit_intercept':[True,False,None],\n",
    "    'shuffle':[True,False,None],\n",
    "    'warm_start':[True,False,None]\n",
    "}\n",
    "gs = GridSearchCV(SGDClassifier(),cv=round(2.5),verbose=25,param_grid=grid).fit(X_train,y_train)\n",
    "import pickle\n",
    "pickle.dump(gs,open('./model_n.pkl','wb'))"
   ]
  },
  {
   "cell_type": "code",
   "execution_count": null,
   "metadata": {},
   "outputs": [],
   "source": []
  }
 ],
 "metadata": {
  "kernelspec": {
   "display_name": "Python 3",
   "language": "python",
   "name": "python3"
  },
  "language_info": {
   "codemirror_mode": {
    "name": "ipython",
    "version": 3
   },
   "file_extension": ".py",
   "mimetype": "text/x-python",
   "name": "python",
   "nbconvert_exporter": "python",
   "pygments_lexer": "ipython3",
   "version": "3.8.5"
  }
 },
 "nbformat": 4,
 "nbformat_minor": 4
}
